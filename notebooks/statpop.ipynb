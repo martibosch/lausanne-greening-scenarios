{
 "cells": [
  {
   "cell_type": "code",
   "execution_count": 1,
   "metadata": {
    "collapsed": false
   },
   "outputs": [],
   "source": [
    "import pandas as pd\n",
    "import swisslandstats as sls"
   ]
  },
  {
   "cell_type": "code",
   "execution_count": 2,
   "metadata": {
    "collapsed": false
   },
   "outputs": [],
   "source": [
    "statpop_filepath = '../data/raw/statpop/statpop-2018.csv'"
   ]
  },
  {
   "cell_type": "code",
   "execution_count": null,
   "metadata": {
    "collapsed": false
   },
   "outputs": [],
   "source": [
    "statpop_ldf = sls.read_csv(statpop_filepath,\n",
    "                           x_column='E_KOORD',\n",
    "                           y_column='N_KOORD')"
   ]
  },
  {
   "cell_type": "code",
   "execution_count": null,
   "metadata": {
    "collapsed": false
   },
   "outputs": [],
   "source": [
    "statpop_ldf = statpop_ldf.clip_by_geometry()"
   ]
  },
  {
   "cell_type": "code",
   "execution_count": null,
   "metadata": {
    "collapsed": false
   },
   "outputs": [],
   "source": [
    "vulnerable_columns = [\n",
    "    f'B18B{sex}{age_group:02}' for sex in ['M', 'W']\n",
    "    for age_group in list(range(1, 4)) + list(range(13, 20))\n",
    "]\n",
    "statpop_ldf['vulnerable'] = statpop_ldf[vulnerable_columns].sum(axis=1)"
   ]
  }
 ],
 "metadata": {
  "kernelspec": {
   "argv": [
    "/home/martibosch/anaconda3/envs/lausanne-greening-scenarios/bin/python",
    "-m",
    "ipykernel_launcher",
    "-f",
    "{connection_file}"
   ],
   "display_name": "Python (lausanne-greening-scenarios)",
   "env": null,
   "interrupt_mode": "signal",
   "language": "python",
   "metadata": null,
   "name": "lausanne-greening-scenarios"
  },
  "name": "statpop.ipynb"
 },
 "nbformat": 4,
 "nbformat_minor": 4
}
