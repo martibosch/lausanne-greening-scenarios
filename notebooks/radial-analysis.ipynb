{
 "cells": [
  {
   "cell_type": "code",
   "execution_count": 1,
   "metadata": {
    "collapsed": false
   },
   "outputs": [],
   "source": [
    "import salem\n",
    "import swiss_uhi_utils as suhi\n",
    "import xarray as xr\n",
    "\n",
    "from lausanne_greening_scenarios import utils"
   ]
  },
  {
   "cell_type": "code",
   "execution_count": 2,
   "metadata": {
    "collapsed": false
   },
   "outputs": [],
   "source": [
    "metrics = ['proportion_of_landscape', 'area_mn', 'shape_index_mn', 'edge_density', 'largest_patch_index']"
   ]
  },
  {
   "cell_type": "code",
   "execution_count": 3,
   "metadata": {
    "collapsed": false
   },
   "outputs": [],
   "source": [
    "biophysical_table_filepath = '../data/processed/biophysical-table.csv'\n",
    "lulc_raster_filepath = '../data/processed/agglom-lulc.tif'\n",
    "# t_da_filepath = '../data/interim/lst-da.nc'\n",
    "t_da_filepath = '../data/processed/tair-ucm.nc'"
   ]
  },
  {
   "cell_type": "code",
   "execution_count": 4,
   "metadata": {
    "collapsed": false
   },
   "outputs": [],
   "source": [
    "ls, ls_meta = utils.get_reclassif_landscape(\n",
    "    lulc_raster_filepath, biophysical_table_filepath)"
   ]
  },
  {
   "cell_type": "code",
   "execution_count": 5,
   "metadata": {
    "collapsed": false
   },
   "outputs": [],
   "source": [
    "ba = utils.get_buffer_analysis(ls, ls_meta)"
   ]
  },
  {
   "cell_type": "code",
   "execution_count": 6,
   "metadata": {
    "collapsed": false
   },
   "outputs": [],
   "source": [
    "zga = utils.get_zonal_grid_analysis(ls, ls_meta)"
   ]
  },
  {
   "cell_type": "code",
   "execution_count": 7,
   "metadata": {
    "collapsed": false
   },
   "outputs": [],
   "source": [
    "lulc_da = salem.open_xr_dataset(lulc_raster_filepath)['data']\n",
    "t_da = suhi.align_ds(xr.open_dataarray(t_da_filepath), lulc_da)"
   ]
  },
  {
   "cell_type": "code",
   "execution_count": 8,
   "metadata": {
    "collapsed": false
   },
   "outputs": [],
   "source": [
    "hottest_day_da = t_da.isel(time=t_da.groupby('time').max(dim=['x', 'y']).argmax())\n",
    "t_arr = hottest_day_da.values"
   ]
  },
  {
   "cell_type": "code",
   "execution_count": 9,
   "metadata": {
    "collapsed": false
   },
   "outputs": [],
   "source": [
    "t_arrs = utils.get_zonal_grid_t_arrs(t_arr, zga)"
   ]
  },
  {
   "cell_type": "code",
   "execution_count": 13,
   "metadata": {
    "collapsed": false
   },
   "outputs": [],
   "source": [
    "metrics_df = zga.compute_class_metrics_df(metrics=metrics)"
   ]
  },
  {
   "cell_type": "code",
   "execution_count": 14,
   "metadata": {
    "collapsed": false
   },
   "outputs": [
    {
     "data": {
      "text/html": [
       "<table class=\"simpletable\">\n",
       "<caption>OLS Regression Results</caption>\n",
       "<tr>\n",
       "  <th>Dep. Variable:</th>            <td>t</td>        <th>  R-squared:         </th> <td>   0.474</td>\n",
       "</tr>\n",
       "<tr>\n",
       "  <th>Model:</th>                   <td>OLS</td>       <th>  Adj. R-squared:    </th> <td>   0.463</td>\n",
       "</tr>\n",
       "<tr>\n",
       "  <th>Method:</th>             <td>Least Squares</td>  <th>  F-statistic:       </th> <td>   43.12</td>\n",
       "</tr>\n",
       "<tr>\n",
       "  <th>Date:</th>             <td>Mon, 03 Aug 2020</td> <th>  Prob (F-statistic):</th> <td>1.42e-31</td>\n",
       "</tr>\n",
       "<tr>\n",
       "  <th>Time:</th>                 <td>08:52:27</td>     <th>  Log-Likelihood:    </th> <td> -149.20</td>\n",
       "</tr>\n",
       "<tr>\n",
       "  <th>No. Observations:</th>      <td>   245</td>      <th>  AIC:               </th> <td>   310.4</td>\n",
       "</tr>\n",
       "<tr>\n",
       "  <th>Df Residuals:</th>          <td>   239</td>      <th>  BIC:               </th> <td>   331.4</td>\n",
       "</tr>\n",
       "<tr>\n",
       "  <th>Df Model:</th>              <td>     5</td>      <th>                     </th>     <td> </td>   \n",
       "</tr>\n",
       "<tr>\n",
       "  <th>Covariance Type:</th>      <td>nonrobust</td>    <th>                     </th>     <td> </td>   \n",
       "</tr>\n",
       "</table>\n",
       "<table class=\"simpletable\">\n",
       "<tr>\n",
       "             <td></td>                <th>coef</th>     <th>std err</th>      <th>t</th>      <th>P>|t|</th>  <th>[0.025</th>    <th>0.975]</th>  \n",
       "</tr>\n",
       "<tr>\n",
       "  <th>const</th>                   <td>   28.8829</td> <td>    0.301</td> <td>   95.948</td> <td> 0.000</td> <td>   28.290</td> <td>   29.476</td>\n",
       "</tr>\n",
       "<tr>\n",
       "  <th>proportion_of_landscape</th> <td>   -0.0228</td> <td>    0.003</td> <td>   -8.321</td> <td> 0.000</td> <td>   -0.028</td> <td>   -0.017</td>\n",
       "</tr>\n",
       "<tr>\n",
       "  <th>area_mn</th>                 <td>    0.0834</td> <td>    0.079</td> <td>    1.055</td> <td> 0.293</td> <td>   -0.072</td> <td>    0.239</td>\n",
       "</tr>\n",
       "<tr>\n",
       "  <th>shape_index_mn</th>          <td>   -0.0247</td> <td>    0.269</td> <td>   -0.092</td> <td> 0.927</td> <td>   -0.555</td> <td>    0.505</td>\n",
       "</tr>\n",
       "<tr>\n",
       "  <th>edge_density</th>            <td>    0.0048</td> <td>    0.001</td> <td>    7.960</td> <td> 0.000</td> <td>    0.004</td> <td>    0.006</td>\n",
       "</tr>\n",
       "<tr>\n",
       "  <th>largest_patch_index</th>     <td>    0.0105</td> <td>    0.003</td> <td>    3.253</td> <td> 0.001</td> <td>    0.004</td> <td>    0.017</td>\n",
       "</tr>\n",
       "</table>\n",
       "<table class=\"simpletable\">\n",
       "<tr>\n",
       "  <th>Omnibus:</th>       <td> 5.882</td> <th>  Durbin-Watson:     </th> <td>   0.772</td>\n",
       "</tr>\n",
       "<tr>\n",
       "  <th>Prob(Omnibus):</th> <td> 0.053</td> <th>  Jarque-Bera (JB):  </th> <td>   3.404</td>\n",
       "</tr>\n",
       "<tr>\n",
       "  <th>Skew:</th>          <td>-0.025</td> <th>  Prob(JB):          </th> <td>   0.182</td>\n",
       "</tr>\n",
       "<tr>\n",
       "  <th>Kurtosis:</th>      <td> 2.425</td> <th>  Cond. No.          </th> <td>1.58e+03</td>\n",
       "</tr>\n",
       "</table><br/><br/>Warnings:<br/>[1] Standard Errors assume that the covariance matrix of the errors is correctly specified.<br/>[2] The condition number is large, 1.58e+03. This might indicate that there are<br/>strong multicollinearity or other numerical problems."
      ],
      "text/plain": [
       "<class 'statsmodels.iolib.summary.Summary'>\n",
       "\"\"\"\n",
       "                            OLS Regression Results                            \n",
       "==============================================================================\n",
       "Dep. Variable:                      t   R-squared:                       0.474\n",
       "Model:                            OLS   Adj. R-squared:                  0.463\n",
       "Method:                 Least Squares   F-statistic:                     43.12\n",
       "Date:                Mon, 03 Aug 2020   Prob (F-statistic):           1.42e-31\n",
       "Time:                        08:52:27   Log-Likelihood:                -149.20\n",
       "No. Observations:                 245   AIC:                             310.4\n",
       "Df Residuals:                     239   BIC:                             331.4\n",
       "Df Model:                           5                                         \n",
       "Covariance Type:            nonrobust                                         \n",
       "===========================================================================================\n",
       "                              coef    std err          t      P>|t|      [0.025      0.975]\n",
       "-------------------------------------------------------------------------------------------\n",
       "const                      28.8829      0.301     95.948      0.000      28.290      29.476\n",
       "proportion_of_landscape    -0.0228      0.003     -8.321      0.000      -0.028      -0.017\n",
       "area_mn                     0.0834      0.079      1.055      0.293      -0.072       0.239\n",
       "shape_index_mn             -0.0247      0.269     -0.092      0.927      -0.555       0.505\n",
       "edge_density                0.0048      0.001      7.960      0.000       0.004       0.006\n",
       "largest_patch_index         0.0105      0.003      3.253      0.001       0.004       0.017\n",
       "==============================================================================\n",
       "Omnibus:                        5.882   Durbin-Watson:                   0.772\n",
       "Prob(Omnibus):                  0.053   Jarque-Bera (JB):                3.404\n",
       "Skew:                          -0.025   Prob(JB):                        0.182\n",
       "Kurtosis:                       2.425   Cond. No.                     1.58e+03\n",
       "==============================================================================\n",
       "\n",
       "Warnings:\n",
       "[1] Standard Errors assume that the covariance matrix of the errors is correctly specified.\n",
       "[2] The condition number is large, 1.58e+03. This might indicate that there are\n",
       "strong multicollinearity or other numerical problems.\n",
       "\"\"\""
      ]
     },
     "execution_count": 14,
     "metadata": {},
     "output_type": "execute_result"
    }
   ],
   "source": [
    "utils.get_linear_regression_summary(metrics_df, utils.TREE_CLASS, t_arrs)"
   ]
  },
  {
   "cell_type": "code",
   "execution_count": null,
   "metadata": {
    "collapsed": false
   },
   "outputs": [],
   "source": []
  },
  {
   "cell_type": "code",
   "execution_count": 6,
   "metadata": {
    "collapsed": false
   },
   "outputs": [],
   "source": [
    "import matplotlib.pyplot as plt\n",
    "import numpy as np\n",
    "import pandas as pd\n",
    "import pylandstats as pls\n",
    "import rasterio as rio\n",
    "import salem\n",
    "import xarray as xr\n",
    "from shapely import geometry\n",
    "\n",
    "from lausanne_greening_scenarios import utils\n",
    "\n",
    "NODATA_CLASS = 0\n",
    "TREE_CLASS = 1\n",
    "IMPERVIOUS_CLASS = 2\n",
    "HIGH_INTENSITY_CLASS = 3\n",
    "\n",
    "LABEL_DICT = {\n",
    "    TREE_CLASS: 'tree',\n",
    "    IMPERVIOUS_CLASS: 'impervious',\n",
    "    HIGH_INTENSITY_CLASS: 'high-intensity'\n",
    "}\n",
    "\n",
    "BASE_MASK = geometry.Point(6.6327025, 46.5218269)\n",
    "BUFFER_DISTS = np.arange(1000, 15000, 1000)\n",
    "\n",
    "\n",
    "def plot_radial_analysis(biophysical_table_filepath,\n",
    "                         lulc_raster_filepath,\n",
    "                         t_da_filepath,\n",
    "                         base_mask=None,\n",
    "                         buffer_dists=None,\n",
    "                         buffer_rings=True):\n",
    "    # process the args\n",
    "    if base_mask is None:\n",
    "        base_mask = BASE_MASK\n",
    "    if buffer_dists is None:\n",
    "        buffer_dists = BUFFER_DISTS\n",
    "    # prepare the figure\n",
    "    figwidth, figheight = plt.rcParams['figure.figsize']\n",
    "    fig, (ax_left, ax_right) = plt.subplots(2,\n",
    "                                            1,\n",
    "                                            figsize=(figwidth, 2 * figheight))\n",
    "\n",
    "    # left plot: class cover\n",
    "    # 1. read the data inputs\n",
    "    biophysical_df = pd.read_csv(biophysical_table_filepath)\n",
    "    with rio.open(lulc_raster_filepath) as src:\n",
    "        lulc_arr = src.read(1)\n",
    "        lulc_res = src.res\n",
    "        lulc_meta = src.meta\n",
    "    # 2. reclassify the LULC according to tree cover/impervious surfaces\n",
    "    reclassif_arr = np.full_like(lulc_arr, NODATA_CLASS)\n",
    "    for criterion, class_val in zip([\n",
    "            biophysical_df['shade'] > .75,\n",
    "        (biophysical_df['green_area'] == 0) & (biophysical_df['shade'] < .75),\n",
    "            biophysical_df['building_intensity'] > .75\n",
    "    ], [TREE_CLASS, IMPERVIOUS_CLASS, HIGH_INTENSITY_CLASS]):\n",
    "        reclassif_arr[np.isin(lulc_arr,\n",
    "                              biophysical_df[criterion]['lucode'])] = class_val\n",
    "    # 3. buffer analysis of total area of each reclassified LULC class\n",
    "    ba = pls.BufferAnalysis(pls.Landscape(reclassif_arr,\n",
    "                                          res=lulc_res,\n",
    "                                          lulc_nodata=NODATA_CLASS),\n",
    "                            base_mask,\n",
    "                            buffer_dists=buffer_dists,\n",
    "                            buffer_rings=buffer_rings,\n",
    "                            base_mask_crs='epsg:4326',\n",
    "                            landscape_crs=lulc_meta['crs'],\n",
    "                            landscape_transform=lulc_meta['transform'])\n",
    "    total_area_df = ba.compute_class_metrics_df(\n",
    "        metrics=['total_area']).reset_index(level=1)\n",
    "    # 4. plot it\n",
    "    for class_val, class_df in total_area_df.groupby(total_area_df.index):\n",
    "        class_df.plot(x='buffer_dists',\n",
    "                      y='total_area',\n",
    "                      style='--o',\n",
    "                      label=LABEL_DICT[class_val],\n",
    "                      ax=ax_left)\n",
    "    ax_left.set_xlabel('dist [m]')\n",
    "    ax_left.set_ylabel('class area [ha]')\n",
    "    ax_left.legend()\n",
    "\n",
    "    # right plot: mean T\n",
    "    # 1. read the data inputs\n",
    "    t_da = xr.open_dataarray(t_da_filepath)\n",
    "    lulc_da = salem.open_xr_dataset(lulc_raster_filepath)['data']\n",
    "    # 2. align the buffer masks\n",
    "    buffer_masks_da = utils.align_ds(xr.DataArray(\n",
    "        ba.masks_arr.astype(np.uint8),\n",
    "        dims=('buffer_dist', *lulc_da.dims),\n",
    "        coords={\n",
    "            'buffer_dist': buffer_dists,\n",
    "            **lulc_da.coords\n",
    "        },\n",
    "        attrs=lulc_da.attrs),\n",
    "                                     t_da,\n",
    "                                     interp='nearest')\n",
    "\n",
    "    # 3. compute the mean buffer temperature\n",
    "    def compute_mean_buffer_t_da(buffer_mask_da, t_da):\n",
    "        buffer_mask_cond = buffer_mask_da == 1\n",
    "        return t_da.groupby('time').apply(lambda t_day_da: t_day_da.where(\n",
    "            buffer_mask_cond).mean())\n",
    "\n",
    "    mean_buffer_t_da = buffer_masks_da.groupby('buffer_dist').apply(\n",
    "        compute_mean_buffer_t_da, args=(t_da, ))\n",
    "    # 4. plot it\n",
    "    for date, group_da in mean_buffer_t_da.groupby('time'):\n",
    "        group_da.plot(ax=ax_right,\n",
    "                      label=np.datetime_as_string(date, unit='D'),\n",
    "                      linestyle='--',\n",
    "                      marker='o')\n",
    "    ax_right.legend()\n",
    "\n",
    "    return fig"
   ]
  },
  {
   "cell_type": "code",
   "execution_count": 7,
   "metadata": {
    "collapsed": false
   },
   "outputs": [],
   "source": [
    "biophysical_table_filepath = '../data/processed/biophysical-table.csv'\n",
    "lulc_raster_filepath = '../data/processed/agglom-lulc.tif'\n",
    "t_da_filepath = '../data/interim/lst-da.nc'"
   ]
  },
  {
   "cell_type": "code",
   "execution_count": 8,
   "metadata": {
    "collapsed": false
   },
   "outputs": [
    {
     "data": {
      "image/png": "[encoded data removed]",
      "text/plain": [
       "<Figure size 432x576 with 2 Axes>"
      ]
     },
     "metadata": {
      "needs_background": "light"
     },
     "output_type": "display_data"
    }
   ],
   "source": [
    "fig = plot_radial_analysis(biophysical_table_filepath, lulc_raster_filepath, t_da_filepath)"
   ]
  }
 ],
 "metadata": {
  "kernelspec": {
   "argv": [
    "/home/martibosch/anaconda3/envs/lausanne-greening-scenarios/bin/python",
    "-m",
    "ipykernel_launcher",
    "-f",
    "{connection_file}"
   ],
   "display_name": "Python (lausanne-greening-scenarios)",
   "env": null,
   "interrupt_mode": "signal",
   "language": "python",
   "metadata": null,
   "name": "lausanne-greening-scenarios"
  },
  "name": "radial-analysis.ipynb"
 },
 "nbformat": 4,
 "nbformat_minor": 2
}
