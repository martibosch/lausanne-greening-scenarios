{
 "cells": [
  {
   "cell_type": "code",
   "execution_count": 1,
   "metadata": {
    "collapsed": false
   },
   "outputs": [],
   "source": [
    "import numpy as np\n",
    "import salem\n",
    "import swiss_uhi_utils as suhi\n",
    "import xarray as xr\n",
    "from pysal.model import spreg\n",
    "\n",
    "from lausanne_greening_scenarios import utils\n",
    "from lausanne_greening_scenarios.regression import utils as regr_utils"
   ]
  },
  {
   "cell_type": "code",
   "execution_count": 2,
   "metadata": {
    "collapsed": false
   },
   "outputs": [],
   "source": [
    "scales = [120, 360, 600, 840, 1080]\n",
    "\n",
    "metrics = ['proportion_of_landscape', 'area_mn', 'shape_index_mn', 'edge_density']\n",
    "tree_class = utils.TREE_CLASS"
   ]
  },
  {
   "cell_type": "code",
   "execution_count": 3,
   "metadata": {
    "collapsed": false
   },
   "outputs": [],
   "source": [
    "biophysical_table_filepath = '../data/processed/biophysical-table.csv'\n",
    "lulc_raster_filepath = '../data/processed/agglom-lulc.tif'\n",
    "t_da_filepath = '../data/processed/tair-ucm.nc'"
   ]
  },
  {
   "cell_type": "code",
   "execution_count": 4,
   "metadata": {
    "collapsed": false
   },
   "outputs": [],
   "source": [
    "lulc_da = salem.open_xr_dataset(lulc_raster_filepath)['data']\n",
    "t_da = suhi.align_ds(xr.open_dataarray(t_da_filepath), lulc_da)\n",
    "hottest_day_da = t_da.isel(time=t_da.groupby('time').max(dim=['x', 'y']).argmax())\n",
    "t_arr = hottest_day_da.values"
   ]
  },
  {
   "cell_type": "code",
   "execution_count": 5,
   "metadata": {
    "collapsed": false
   },
   "outputs": [],
   "source": [
    "rw = regr_utils.RegressionWrapper(lulc_raster_filepath, biophysical_table_filepath, metrics, tree_class)"
   ]
  },
  {
   "cell_type": "code",
   "execution_count": 6,
   "metadata": {
    "collapsed": false
   },
   "outputs": [],
   "source": [
    "zga = rw._get_zga(scales[0])"
   ]
  },
  {
   "cell_type": "code",
   "execution_count": 7,
   "metadata": {
    "collapsed": false
   },
   "outputs": [],
   "source": [
    "df = zga.compute_class_metrics_df(metrics=metrics, classes=[tree_class])"
   ]
  },
  {
   "cell_type": "code",
   "execution_count": 11,
   "metadata": {
    "collapsed": false
   },
   "outputs": [
    {
     "data": {
      "text/html": [
       "<div>\n",
       "<style scoped>\n",
       "    .dataframe tbody tr th:only-of-type {\n",
       "        vertical-align: middle;\n",
       "    }\n",
       "\n",
       "    .dataframe tbody tr th {\n",
       "        vertical-align: top;\n",
       "    }\n",
       "\n",
       "    .dataframe thead th {\n",
       "        text-align: right;\n",
       "    }\n",
       "</style>\n",
       "<table border=\"1\" class=\"dataframe\">\n",
       "  <thead>\n",
       "    <tr style=\"text-align: right;\">\n",
       "      <th></th>\n",
       "      <th>metric</th>\n",
       "      <th>proportion_of_landscape</th>\n",
       "      <th>area_mn</th>\n",
       "      <th>shape_index_mn</th>\n",
       "      <th>edge_density</th>\n",
       "    </tr>\n",
       "    <tr>\n",
       "      <th>class_val</th>\n",
       "      <th>zones</th>\n",
       "      <th></th>\n",
       "      <th></th>\n",
       "      <th></th>\n",
       "      <th></th>\n",
       "    </tr>\n",
       "  </thead>\n",
       "  <tbody>\n",
       "    <tr>\n",
       "      <th rowspan=\"11\" valign=\"top\">1</th>\n",
       "      <th>(0, 49)</th>\n",
       "      <td>16.6667</td>\n",
       "      <td>0.01</td>\n",
       "      <td>1</td>\n",
       "      <td>500</td>\n",
       "    </tr>\n",
       "    <tr>\n",
       "      <th>(0, 50)</th>\n",
       "      <td>1.69492</td>\n",
       "      <td>0.01</td>\n",
       "      <td>1</td>\n",
       "      <td>33.8983</td>\n",
       "    </tr>\n",
       "    <tr>\n",
       "      <th>(0, 51)</th>\n",
       "      <td>10.2941</td>\n",
       "      <td>0.0233333</td>\n",
       "      <td>1.2</td>\n",
       "      <td>338.235</td>\n",
       "    </tr>\n",
       "    <tr>\n",
       "      <th>(0, 52)</th>\n",
       "      <td>2.77778</td>\n",
       "      <td>0.02</td>\n",
       "      <td>1.25</td>\n",
       "      <td>97.2222</td>\n",
       "    </tr>\n",
       "    <tr>\n",
       "      <th>(0, 53)</th>\n",
       "      <td>4.16667</td>\n",
       "      <td>0.01</td>\n",
       "      <td>1</td>\n",
       "      <td>138.889</td>\n",
       "    </tr>\n",
       "    <tr>\n",
       "      <th>...</th>\n",
       "      <td>...</td>\n",
       "      <td>...</td>\n",
       "      <td>...</td>\n",
       "      <td>...</td>\n",
       "    </tr>\n",
       "    <tr>\n",
       "      <th>(86, 170)</th>\n",
       "      <td>NaN</td>\n",
       "      <td>NaN</td>\n",
       "      <td>NaN</td>\n",
       "      <td>NaN</td>\n",
       "    </tr>\n",
       "    <tr>\n",
       "      <th>(86, 171)</th>\n",
       "      <td>1.38889</td>\n",
       "      <td>0.01</td>\n",
       "      <td>1</td>\n",
       "      <td>41.6667</td>\n",
       "    </tr>\n",
       "    <tr>\n",
       "      <th>(86, 172)</th>\n",
       "      <td>1.38889</td>\n",
       "      <td>0.01</td>\n",
       "      <td>1</td>\n",
       "      <td>48.6111</td>\n",
       "    </tr>\n",
       "    <tr>\n",
       "      <th>(86, 173)</th>\n",
       "      <td>NaN</td>\n",
       "      <td>NaN</td>\n",
       "      <td>NaN</td>\n",
       "      <td>NaN</td>\n",
       "    </tr>\n",
       "    <tr>\n",
       "      <th>(86, 174)</th>\n",
       "      <td>2.85714</td>\n",
       "      <td>0.01</td>\n",
       "      <td>1</td>\n",
       "      <td>114.286</td>\n",
       "    </tr>\n",
       "  </tbody>\n",
       "</table>\n",
       "<p>8102 rows × 4 columns</p>\n",
       "</div>"
      ],
      "text/plain": [
       "metric              proportion_of_landscape    area_mn shape_index_mn  \\\n",
       "class_val zones                                                         \n",
       "1         (0, 49)                   16.6667       0.01              1   \n",
       "          (0, 50)                   1.69492       0.01              1   \n",
       "          (0, 51)                   10.2941  0.0233333            1.2   \n",
       "          (0, 52)                   2.77778       0.02           1.25   \n",
       "          (0, 53)                   4.16667       0.01              1   \n",
       "...                                     ...        ...            ...   \n",
       "          (86, 170)                     NaN        NaN            NaN   \n",
       "          (86, 171)                 1.38889       0.01              1   \n",
       "          (86, 172)                 1.38889       0.01              1   \n",
       "          (86, 173)                     NaN        NaN            NaN   \n",
       "          (86, 174)                 2.85714       0.01              1   \n",
       "\n",
       "metric              edge_density  \n",
       "class_val zones                   \n",
       "1         (0, 49)            500  \n",
       "          (0, 50)        33.8983  \n",
       "          (0, 51)        338.235  \n",
       "          (0, 52)        97.2222  \n",
       "          (0, 53)        138.889  \n",
       "...                          ...  \n",
       "          (86, 170)          NaN  \n",
       "          (86, 171)      41.6667  \n",
       "          (86, 172)      48.6111  \n",
       "          (86, 173)          NaN  \n",
       "          (86, 174)      114.286  \n",
       "\n",
       "[8102 rows x 4 columns]"
      ]
     },
     "execution_count": 11,
     "metadata": {},
     "output_type": "execute_result"
    }
   ],
   "source": [
    "df"
   ]
  }
 ],
 "metadata": {
  "kernelspec": {
   "argv": [
    "/home/martibosch/anaconda3/envs/lausanne-greening-scenarios/bin/python",
    "-m",
    "ipykernel_launcher",
    "-f",
    "{connection_file}"
   ],
   "display_name": "Python (lausanne-greening-scenarios)",
   "env": null,
   "interrupt_mode": "signal",
   "language": "python",
   "metadata": null,
   "name": "lausanne-greening-scenarios"
  },
  "name": "Untitled4.ipynb"
 },
 "nbformat": 4,
 "nbformat_minor": 4
}
