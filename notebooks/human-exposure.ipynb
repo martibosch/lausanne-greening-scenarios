{
 "cells": [
  {
   "cell_type": "code",
   "execution_count": 1,
   "metadata": {
    "collapsed": false
   },
   "outputs": [
    {
     "name": "stdout",
     "output_type": "stream",
     "text": [
      "make: Entering directory '/home/martibosch/data-science/lausanne-greening-scenarios'\r\n",
      "make: Nothing to be done for 'statpop'.\r\n",
      "make: Nothing to be done for 'scenario_prop'.\r\n",
      "make: Nothing to be done for 'scenario_config'.\r\n",
      "make: Nothing to be done for 'scenario_endpoints'.\r\n",
      "make: Leaving directory '/home/martibosch/data-science/lausanne-greening-scenarios'\r\n"
     ]
    }
   ],
   "source": [
    "!make -C .. statpop scenario_prop scenario_config scenario_endpoints"
   ]
  },
  {
   "cell_type": "code",
   "execution_count": 2,
   "metadata": {
    "collapsed": false
   },
   "outputs": [],
   "source": [
    "import tempfile\n",
    "from os import path\n",
    "\n",
    "import geopandas as gpd\n",
    "import matplotlib.pyplot as plt\n",
    "import numpy as np\n",
    "import pandas as pd\n",
    "import salem\n",
    "import seaborn as sns\n",
    "import swiss_uhi_utils as suhi\n",
    "import swisslandstats as sls\n",
    "import xarray as xr\n",
    "from affine import Affine"
   ]
  },
  {
   "cell_type": "code",
   "execution_count": 3,
   "metadata": {
    "collapsed": false
   },
   "outputs": [],
   "source": [
    "agglom_extent_filepath = '../data/raw/agglom-extent/agglom-extent.shp'\n",
    "statpop_filepath = '../data/raw/statpop/statpop-2019.csv'\n",
    "\n",
    "scenario_prop_filepath = '../data/processed/scenario-prop.nc'\n",
    "scenario_config_filepath = '../data/processed/scenario-config.nc'\n",
    "scenario_endpoints_filepath = '../data/processed/scenario-endpoints.nc'"
   ]
  },
  {
   "cell_type": "code",
   "execution_count": 4,
   "metadata": {
    "collapsed": false
   },
   "outputs": [],
   "source": [
    "agglom_extent_gdf = gpd.read_file(agglom_extent_filepath)\n",
    "ldf = sls.read_csv(statpop_filepath, x_column='E_KOORD', y_column='N_KOORD')\n",
    "agglom_ldf = ldf.clip_by_geometry(\n",
    "    geometry=agglom_extent_gdf.iloc[0]['geometry'],\n",
    "    geometry_crs=agglom_extent_gdf.crs)\n",
    "agglom_ldf['total'] = agglom_ldf[[f'B19B{sex}TOT'\n",
    "                                  for sex in ['M', 'W']]].sum(axis=1)\n",
    "with tempfile.TemporaryDirectory() as tmp_dir:\n",
    "    tmp_filepath = path.join(tmp_dir, f'agglom-pop.tif')\n",
    "    agglom_ldf.to_geotiff(tmp_filepath, 'total')\n",
    "    agglom_pop_da =  salem.open_xr_dataset(tmp_filepath)['data']"
   ]
  },
  {
   "cell_type": "code",
   "execution_count": 5,
   "metadata": {
    "collapsed": false
   },
   "outputs": [],
   "source": [
    "num_plot_cols = 5\n",
    "\n",
    "change_props = np.linspace(0, 1, num_plot_cols)\n",
    "\n",
    "\n",
    "def preprocess_scenario_ds(scenario_ds_filepath):\n",
    "    # change props is curried here\n",
    "    return xr.open_dataset(scenario_ds_filepath)['T'].sel(\n",
    "        change_prop=change_props[1:-1])"
   ]
  },
  {
   "cell_type": "code",
   "execution_count": 6,
   "metadata": {
    "collapsed": false
   },
   "outputs": [
    {
     "name": "stderr",
     "output_type": "stream",
     "text": [
      "/home/martibosch/anaconda3/envs/lausanne-greening-scenarios/lib/python3.7/site-packages/xarray/core/nanops.py:142: RuntimeWarning: Mean of empty slice\n",
      "  return np.nanmean(a, axis=axis, dtype=dtype)\n"
     ]
    }
   ],
   "source": [
    "scenario_T_da = xr.concat([\n",
    "    preprocess_scenario_ds(scenario_prop_filepath).expand_dims(\n",
    "        interaction=['none']),\n",
    "    preprocess_scenario_ds(scenario_config_filepath)\n",
    "],\n",
    "                          dim='interaction')\n",
    "scenario_endpoints_ds = xr.open_dataset(scenario_endpoints_filepath)\n",
    "scenario_T_da = xr.concat([\n",
    "    scenario_T_da,\n",
    "    scenario_endpoints_ds['T'].mean(dim='scenario_run').expand_dims(\n",
    "        interaction=scenario_T_da['interaction'],\n",
    "        scenario_run=scenario_T_da['scenario_run'])\n",
    "],\n",
    "                          dim='change_prop').sortby('change_prop')\n",
    "scenario_T_da.attrs.update(\n",
    "    pyproj_srs=scenario_endpoints_ds.attrs['pyproj_srs'])\n",
    "# scenario_T_da = suhi.align_ds(scenario_T_da, agglom_pop_da)\n",
    "scenario_T_da = xr.concat([\n",
    "    suhi.align_ds(group_T_da, agglom_pop_da)\n",
    "    for change_prop, group_T_da in scenario_T_da.groupby('change_prop')\n",
    "],\n",
    "                          dim='change_prop')"
   ]
  },
  {
   "cell_type": "code",
   "execution_count": 7,
   "metadata": {
    "collapsed": false
   },
   "outputs": [],
   "source": [
    "T_step = 1\n",
    "T_ser = pd.Series(np.arange(np.floor(scenario_T_da.min().item()),\n",
    "                            np.ceil(scenario_T_da.max().item()), T_step),\n",
    "                  name='T')"
   ]
  },
  {
   "cell_type": "code",
   "execution_count": 8,
   "metadata": {
    "collapsed": false
   },
   "outputs": [],
   "source": [
    "change_props = scenario_T_da['change_prop']\n",
    "interactions = scenario_T_da['interaction'].data\n",
    "scenario_runs = scenario_T_da['scenario_run'].data\n",
    "long_df = pd.concat([\n",
    "    pd.DataFrame(\n",
    "        pd.DataFrame(np.array([\n",
    "            agglom_pop_da.where(\n",
    "                scenario_T_da.sel(interaction=interaction,\n",
    "                                  scenario_run=scenario_run) > T,\n",
    "                0).sum(dim=['x', 'y']).data for T in T_ser\n",
    "        ]),\n",
    "                     index=T_ser,\n",
    "                     columns=change_props).stack().rename('count')).assign(\n",
    "                         interaction=interaction, scenario_run=scenario_run)\n",
    "    for interaction in interactions for scenario_run in scenario_runs\n",
    "],\n",
    "                    axis=0).reset_index()\n",
    "\n",
    "# get a wide dataframe to compute the difference between cluster and scatter\n",
    "wide_df = long_df.set_index(list(long_df.columns.difference(\n",
    "    ['count'])))['count'].unstack('interaction').reset_index()\n",
    "wide_df['diff'] = (wide_df['cluster'] - wide_df['scatter'])\n",
    "\n",
    "# compute fraction of the population in the long dataframe\n",
    "# long_df['pop_frac'] = long_df['count'] / agglom_pop_da.sum().item()"
   ]
  },
  {
   "cell_type": "code",
   "execution_count": 9,
   "metadata": {
    "collapsed": false
   },
   "outputs": [
    {
     "data": {
      "image/png": "[encoded data removed]",
      "text/plain": [
       "<Figure size 864x288 with 2 Axes>"
      ]
     },
     "metadata": {
      "needs_background": "light"
     },
     "output_type": "display_data"
    }
   ],
   "source": [
    "figwidth, figheight = plt.rcParams['figure.figsize']\n",
    "fig, (ax1, ax2) = plt.subplots(1, 2, figsize=(2 * figwidth, figheight))\n",
    "\n",
    "sns.barplot(x='T',\n",
    "            y='count',\n",
    "            hue='change_prop',\n",
    "            data=long_df[long_df['interaction'] == 'none'],\n",
    "            palette='YlGn',\n",
    "            ax=ax1)\n",
    "ax1.set_ylabel('N. people')\n",
    "legend = ax1.legend()\n",
    "legend.remove()\n",
    "sns.barplot(x='T',\n",
    "            y='diff',\n",
    "            hue='change_prop',\n",
    "            data=wide_df,\n",
    "            palette='YlGn',\n",
    "            ax=ax2)\n",
    "ax2.set_ylabel('$N_{cluster} - N_{scatter}$')\n",
    "ax2.legend(title='Change prop.', loc='center right', bbox_to_anchor=(1.3, .5))\n",
    "\n",
    "fig.tight_layout(h_pad=1.2)\n",
    "fig.savefig('../reports/figures/human-exposure.pdf')"
   ]
  }
 ],
 "metadata": {
  "kernelspec": {
   "argv": [
    "/home/martibosch/anaconda3/envs/lausanne-greening-scenarios/bin/python",
    "-m",
    "ipykernel_launcher",
    "-f",
    "{connection_file}"
   ],
   "display_name": "Python (lausanne-greening-scenarios)",
   "env": null,
   "interrupt_mode": "signal",
   "language": "python",
   "metadata": null,
   "name": "lausanne-greening-scenarios"
  },
  "name": "human-exposure.ipynb"
 },
 "nbformat": 4,
 "nbformat_minor": 4
}
