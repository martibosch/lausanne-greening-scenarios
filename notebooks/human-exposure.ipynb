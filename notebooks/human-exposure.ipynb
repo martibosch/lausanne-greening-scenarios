{
 "cells": [
  {
   "cell_type": "code",
   "execution_count": 1,
   "metadata": {},
   "outputs": [
    {
     "name": "stdout",
     "output_type": "stream",
     "text": [
      "make: Entering directory '/home/martibosch/data-science/lausanne-greening-scenarios'\r\n",
      "make: Nothing to be done for 'scenarios'.\r\n",
      "make: Nothing to be done for 'statpop'.\r\n",
      "make: Leaving directory '/home/martibosch/data-science/lausanne-greening-scenarios'\r\n"
     ]
    }
   ],
   "source": [
    "!make -C .. scenarios statpop"
   ]
  },
  {
   "cell_type": "code",
   "execution_count": 2,
   "metadata": {},
   "outputs": [],
   "source": [
    "import tempfile\n",
    "from os import path\n",
    "\n",
    "import geopandas as gpd\n",
    "import matplotlib.pyplot as plt\n",
    "import numpy as np\n",
    "import pandas as pd\n",
    "import salem\n",
    "import seaborn as sns\n",
    "import swiss_uhi_utils as suhi\n",
    "import swisslandstats as sls\n",
    "import xarray as xr\n",
    "from affine import Affine\n",
    "\n",
    "from lausanne_greening_scenarios import utils"
   ]
  },
  {
   "cell_type": "code",
   "execution_count": 3,
   "metadata": {},
   "outputs": [],
   "source": [
    "agglom_extent_filepath = '../data/raw/agglom-extent/agglom-extent.shp'\n",
    "statpop_filepath = '../data/raw/statpop/statpop-2019.csv'\n",
    "\n",
    "scenario_ds_filepath = '../data/processed/scenarios.nc'"
   ]
  },
  {
   "cell_type": "code",
   "execution_count": 4,
   "metadata": {},
   "outputs": [],
   "source": [
    "agglom_extent_gdf = gpd.read_file(agglom_extent_filepath)\n",
    "ldf = sls.read_csv(statpop_filepath, x_column='E_KOORD', y_column='N_KOORD')\n",
    "agglom_ldf = ldf.clip_by_geometry(\n",
    "    geometry=agglom_extent_gdf.iloc[0]['geometry'],\n",
    "    geometry_crs=agglom_extent_gdf.crs)\n",
    "agglom_ldf['total'] = agglom_ldf[[f'B19B{sex}TOT'\n",
    "                                  for sex in ['M', 'W']]].sum(axis=1)\n",
    "with tempfile.TemporaryDirectory() as tmp_dir:\n",
    "    tmp_filepath = path.join(tmp_dir, f'agglom-pop.tif')\n",
    "    agglom_ldf.to_geotiff(tmp_filepath, 'total')\n",
    "    agglom_pop_da =  salem.open_xr_dataset(tmp_filepath)['data']"
   ]
  },
  {
   "cell_type": "code",
   "execution_count": 5,
   "metadata": {},
   "outputs": [],
   "source": [
    "num_change_props = 5\n",
    "change_props = np.linspace(0, 1, num_change_props)\n",
    "\n",
    "scenario_T_da = xr.open_dataset(scenario_ds_filepath)['T'].sel(\n",
    "        change_prop=change_props)\n",
    "scenario_T_da = xr.concat([\n",
    "    suhi.align_ds(group_T_da, agglom_pop_da)\n",
    "    for change_prop, group_T_da in scenario_T_da.groupby('change_prop')\n",
    "],\n",
    "                          dim='change_prop')"
   ]
  },
  {
   "cell_type": "code",
   "execution_count": 6,
   "metadata": {},
   "outputs": [],
   "source": [
    "T_step = 1\n",
    "T_ser = pd.Series(np.arange(np.floor(scenario_T_da.min().item()),\n",
    "                            np.ceil(scenario_T_da.max().item()), T_step),\n",
    "                  name='T')"
   ]
  },
  {
   "cell_type": "code",
   "execution_count": 7,
   "metadata": {},
   "outputs": [],
   "source": [
    "change_props = scenario_T_da['change_prop']\n",
    "interactions = scenario_T_da['interaction'].data\n",
    "scenario_runs = scenario_T_da['scenario_run'].data\n",
    "pop_count_df = pd.concat([\n",
    "    pd.DataFrame(\n",
    "        pd.DataFrame(np.array([\n",
    "            agglom_pop_da.where(\n",
    "                scenario_T_da.sel(interaction=interaction,\n",
    "                                  scenario_run=scenario_run) > T,\n",
    "                0).sum(dim=['x', 'y']).data for T in T_ser\n",
    "        ]),\n",
    "                     index=T_ser,\n",
    "                     columns=change_props).stack().rename('count')).assign(\n",
    "                         interaction=interaction, scenario_run=scenario_run)\n",
    "    for interaction in interactions for scenario_run in scenario_runs\n",
    "],\n",
    "                    axis=0).reset_index()\n",
    "# by default, it is uint16, which will be problematic when computing differences\n",
    "pop_count_df['count'] = pop_count_df['count'].astype(np.int32)"
   ]
  },
  {
   "cell_type": "code",
   "execution_count": 8,
   "metadata": {},
   "outputs": [
    {
     "data": {
      "image/png": "[encoded data removed]",
      "text/plain": [
       "<Figure size 432x288 with 1 Axes>"
      ]
     },
     "metadata": {
      "needs_background": "light"
     },
     "output_type": "display_data"
    }
   ],
   "source": [
    "ax = sns.barplot(x='T',\n",
    "            y='count',\n",
    "            hue='change_prop',\n",
    "            data=pop_count_df,\n",
    "            palette='YlGn')\n",
    "ax.figure.savefig('../reports/figures/human-exposure.pdf')"
   ]
  },
  {
   "cell_type": "code",
   "execution_count": 9,
   "metadata": {},
   "outputs": [
    {
     "data": {
      "image/png": "[encoded data removed]",
      "text/plain": [
       "<Figure size 1296x288 with 3 Axes>"
      ]
     },
     "metadata": {
      "needs_background": "light"
     },
     "output_type": "display_data"
    }
   ],
   "source": [
    "fig = utils.plot_approach_pairwise_comparison(\n",
    "    pop_count_df[(pop_count_df['change_prop'] > 0)\n",
    "                 & (pop_count_df['change_prop'] < 1)],\n",
    "    'T',\n",
    "    'count',\n",
    "    'change_prop',\n",
    "    palette='YlGn')\n",
    "fig.savefig('../reports/figures/human-exposure-comparison.pdf')"
   ]
  }
 ],
 "metadata": {
  "kernelspec": {
   "display_name": "Python (lausanne-greening-scenarios)",
   "language": "python",
   "name": "lausanne-greening-scenarios"
  },
  "language_info": {
   "codemirror_mode": {
    "name": "ipython",
    "version": 3
   },
   "file_extension": ".py",
   "mimetype": "text/x-python",
   "name": "python",
   "nbconvert_exporter": "python",
   "pygments_lexer": "ipython3",
   "version": "3.7.8"
  },
  "name": "human-exposure.ipynb"
 },
 "nbformat": 4,
 "nbformat_minor": 4
}
