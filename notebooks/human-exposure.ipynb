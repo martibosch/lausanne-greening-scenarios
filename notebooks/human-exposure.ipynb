{
 "cells": [
  {
   "cell_type": "code",
   "execution_count": 1,
   "metadata": {
    "collapsed": false
   },
   "outputs": [
    {
     "name": "stdout",
     "output_type": "stream",
     "text": [
      "make: Entering directory '/home/martibosch/data-science/lausanne-greening-scenarios'\r\n",
      "make: Nothing to be done for 'statpop'.\r\n",
      "make: Nothing to be done for 'scenario_prop'.\r\n",
      "make: Nothing to be done for 'scenario_endpoints'.\r\n",
      "make: Leaving directory '/home/martibosch/data-science/lausanne-greening-scenarios'\r\n"
     ]
    }
   ],
   "source": [
    "!make -C .. statpop scenario_prop scenario_endpoints"
   ]
  },
  {
   "cell_type": "code",
   "execution_count": 2,
   "metadata": {
    "collapsed": false
   },
   "outputs": [],
   "source": [
    "import tempfile\n",
    "from os import path\n",
    "\n",
    "import geopandas as gpd\n",
    "import matplotlib.pyplot as plt\n",
    "import numpy as np\n",
    "import pandas as pd\n",
    "import salem\n",
    "import seaborn as sns\n",
    "import swiss_uhi_utils as suhi\n",
    "import swisslandstats as sls\n",
    "import xarray as xr\n",
    "from affine import Affine"
   ]
  },
  {
   "cell_type": "code",
   "execution_count": 3,
   "metadata": {
    "collapsed": false
   },
   "outputs": [],
   "source": [
    "agglom_extent_filepath = '../data/raw/agglom-extent/agglom-extent.shp'\n",
    "statpop_filepath = '../data/raw/statpop/statpop-2019.csv'\n",
    "\n",
    "scenario_prop_filepath = '../data/processed/scenario-prop.nc'\n",
    "scenario_endpoints_filepath = '../data/processed/scenario-endpoints.nc'\n",
    "# t_da_filepath = '../data/processed/tair-ucm.nc'"
   ]
  },
  {
   "cell_type": "code",
   "execution_count": 4,
   "metadata": {
    "collapsed": false
   },
   "outputs": [],
   "source": [
    "def da_from_column(ldf, column):\n",
    "    with tempfile.TemporaryDirectory() as tmp_dir:\n",
    "        tmp_filepath = path.join(tmp_dir, f'{column}.tif')\n",
    "        ldf.to_geotiff(tmp_filepath, column)\n",
    "        # ldf = ldf.drop(column, axis=1)\n",
    "        da =  salem.open_xr_dataset(tmp_filepath)['data']\n",
    "    da.name = column\n",
    "    return da"
   ]
  },
  {
   "cell_type": "code",
   "execution_count": 5,
   "metadata": {
    "collapsed": false
   },
   "outputs": [],
   "source": [
    "agglom_extent_gdf = gpd.read_file(agglom_extent_filepath)\n",
    "ldf = sls.read_csv(statpop_filepath, x_column='E_KOORD', y_column='N_KOORD')\n",
    "agglom_ldf = ldf.clip_by_geometry(\n",
    "    geometry=agglom_extent_gdf.iloc[0]['geometry'],\n",
    "    geometry_crs=agglom_extent_gdf.crs)\n",
    "pop_columns = ['elder', 'total']\n",
    "agglom_ldf['elder'] = agglom_ldf[[\n",
    "    f'B19B{sex}{age_group:02}' for sex in ['M', 'W']\n",
    "    for age_group in range(13, 20)\n",
    "]].sum(axis=1)\n",
    "agglom_ldf['total'] = agglom_ldf[[f'B19B{sex}TOT'\n",
    "                                  for sex in ['M', 'W']]].sum(axis=1)\n",
    "pop_ds = xr.Dataset({\n",
    "    column: da_from_column(agglom_ldf, column)\n",
    "    for column in pop_columns\n",
    "})\n",
    "pop_ds.attrs = dict(pyproj_srs=agglom_ldf.crs)"
   ]
  },
  {
   "cell_type": "code",
   "execution_count": 6,
   "metadata": {
    "collapsed": false
   },
   "outputs": [],
   "source": [
    "scenario_T_da = xr.concat([\n",
    "    xr.open_dataset(scenario_ds_filepath)['T'].mean('scenario_run')\n",
    "    for scenario_ds_filepath in\n",
    "    [scenario_prop_filepath, scenario_endpoints_filepath]\n",
    "],\n",
    "                          dim='change_prop')"
   ]
  },
  {
   "cell_type": "code",
   "execution_count": 7,
   "metadata": {
    "collapsed": false
   },
   "outputs": [],
   "source": [
    "num_plot_cols = 5\n",
    "\n",
    "plot_da = scenario_T_da.sortby('change_prop').sel(\n",
    "    change_prop=np.linspace(0, 1, num_plot_cols))\n",
    "plot_da.attrs.update(\n",
    "    pyproj_srs=xr.open_dataset(scenario_prop_filepath).attrs['pyproj_srs'])\n",
    "plot_da = suhi.align_ds(plot_da, pop_ds)"
   ]
  },
  {
   "cell_type": "code",
   "execution_count": 8,
   "metadata": {
    "collapsed": false
   },
   "outputs": [],
   "source": [
    "T_step = 1\n",
    "T_ser = pd.Series(np.arange(np.floor(plot_da.min().item()),\n",
    "                            np.ceil(plot_da.max().item()), T_step),\n",
    "                  name='T')"
   ]
  },
  {
   "cell_type": "code",
   "execution_count": 9,
   "metadata": {
    "collapsed": false
   },
   "outputs": [],
   "source": [
    "change_props = plot_da['change_prop']\n",
    "data_vars = pop_ds.data_vars\n",
    "df = pd.concat([\n",
    "    pd.DataFrame(np.array([\n",
    "        pop_ds[data_var].where(plot_da > T, 0).sum(dim=['x', 'y']).data\n",
    "        for T in T_ser\n",
    "    ]),\n",
    "                 index=T_ser,\n",
    "                 columns=change_props).stack().rename(data_var) /\n",
    "    pop_ds[data_var].sum().item() for data_var in data_vars\n",
    "],\n",
    "               axis=1).reset_index().melt(id_vars=['T', 'change_prop'],\n",
    "                                          value_vars=data_vars,\n",
    "                                          var_name='group',\n",
    "                                          value_name='count')\n",
    "df['T'] = df['T'].astype(int)\n",
    "df['change_prop'] = df['change_prop'].apply(lambda x: f'{x:.2f}')\n",
    "df = df.sort_values('group', ascending=False).sort_values('change_prop')"
   ]
  },
  {
   "cell_type": "code",
   "execution_count": 10,
   "metadata": {
    "collapsed": false
   },
   "outputs": [
    {
     "data": {
      "image/png": "[encoded data removed]",
      "text/plain": [
       "<Figure size 508.875x216 with 2 Axes>"
      ]
     },
     "metadata": {
      "needs_background": "light"
     },
     "output_type": "display_data"
    }
   ],
   "source": [
    "g = sns.FacetGrid(data=df, col='group')\n",
    "g.map_dataframe(sns.barplot, x='T', y='count', hue='change_prop')\n",
    "g.set_axis_labels(x_var='$T \\; [\\\\degree C]$', y_var='Fraction of population')\n",
    "g.add_legend(title='Change prop.', bbox_to_anchor=(1.02, .5), frameon=True)\n",
    "# for ax in g.axes.flat:\n",
    "#     ax.ticklabel_format(axis='y',\n",
    "#                         style='sci',\n",
    "#                         scilimits=(3, 3),\n",
    "#                         useOffset=True)\n",
    "g.fig.savefig('../reports/figures/human-exposure.pdf')"
   ]
  }
 ],
 "metadata": {
  "kernelspec": {
   "argv": [
    "/home/martibosch/anaconda3/envs/lausanne-greening-scenarios/bin/python",
    "-m",
    "ipykernel_launcher",
    "-f",
    "{connection_file}"
   ],
   "display_name": "Python (lausanne-greening-scenarios)",
   "env": null,
   "interrupt_mode": "signal",
   "language": "python",
   "metadata": null,
   "name": "lausanne-greening-scenarios"
  },
  "name": "human-exposure.ipynb"
 },
 "nbformat": 4,
 "nbformat_minor": 4
}
