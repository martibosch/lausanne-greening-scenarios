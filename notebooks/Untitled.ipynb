{
 "cells": [
  {
   "cell_type": "code",
   "execution_count": 40,
   "metadata": {
    "collapsed": false
   },
   "outputs": [
    {
     "ename": "ModuleNotFoundError",
     "evalue": "No module named 'lausanne_greening_scenarios'",
     "output_type": "error",
     "traceback": [
      "\u001b[0;31m---------------------------------------------------------------------------\u001b[0m",
      "\u001b[0;31mModuleNotFoundError\u001b[0m                       Traceback (most recent call last)",
      "\u001b[0;32m<ipython-input-40-f9187aff48e0>\u001b[0m in \u001b[0;36m<module>\u001b[0;34m\u001b[0m\n\u001b[1;32m      2\u001b[0m \u001b[0;32mimport\u001b[0m \u001b[0mxarray\u001b[0m \u001b[0;32mas\u001b[0m \u001b[0mxr\u001b[0m\u001b[0;34m\u001b[0m\u001b[0;34m\u001b[0m\u001b[0m\n\u001b[1;32m      3\u001b[0m \u001b[0;34m\u001b[0m\u001b[0m\n\u001b[0;32m----> 4\u001b[0;31m \u001b[0;32mfrom\u001b[0m \u001b[0mlausanne_greening_scenarios\u001b[0m\u001b[0;34m.\u001b[0m\u001b[0minvest\u001b[0m \u001b[0;32mimport\u001b[0m \u001b[0mutils\u001b[0m \u001b[0;32mas\u001b[0m \u001b[0minvest_utils\u001b[0m\u001b[0;34m\u001b[0m\u001b[0;34m\u001b[0m\u001b[0m\n\u001b[0m",
      "\u001b[0;31mModuleNotFoundError\u001b[0m: No module named 'lausanne_greening_scenarios'"
     ]
    }
   ],
   "source": [
    "import pandas as pd\n",
    "import xarray as xr\n",
    "\n",
    "from lausanne_greening_scenarios.invest import utils as invest_utils"
   ]
  },
  {
   "cell_type": "code",
   "execution_count": 33,
   "metadata": {
    "collapsed": false
   },
   "outputs": [],
   "source": [
    "ref_et_filepath = '../data/interim/invest/ref-et.nc'\n",
    "station_tair_filepath = '../data/interim/station-tair.csv'"
   ]
  },
  {
   "cell_type": "code",
   "execution_count": 28,
   "metadata": {
    "collapsed": false
   },
   "outputs": [],
   "source": [
    "station_tair_df = pd.read_csv(station_tair_filepath, index_col=0)\n",
    "station_tair_df.index = pd.to_datetime(station_tair_df.index)\n",
    "hottest_day = station_tair_df.index[station_tair_df.mean(axis=1).argmax()]"
   ]
  },
  {
   "cell_type": "code",
   "execution_count": 30,
   "metadata": {
    "collapsed": false
   },
   "outputs": [
    {
     "data": {
      "text/plain": [
       "Timestamp('2019-07-24 00:00:00')"
      ]
     },
     "execution_count": 30,
     "metadata": {},
     "output_type": "execute_result"
    }
   ],
   "source": [
    "hottest_day"
   ]
  },
  {
   "cell_type": "code",
   "execution_count": 38,
   "metadata": {
    "collapsed": false
   },
   "outputs": [],
   "source": [
    "ref_et_da = xr.open_dataarray(ref_et_filepath).sel(time=hottest_day)"
   ]
  },
  {
   "cell_type": "code",
   "execution_count": 39,
   "metadata": {
    "collapsed": false
   },
   "outputs": [
    {
     "data": {
      "text/html": [
       "<pre>&lt;xarray.DataArray &#x27;ref_eto&#x27; (y: 1052, x: 2131)&gt;\n",
       "[2241812 values with dtype=float32]\n",
       "Coordinates:\n",
       "    time     datetime64[ns] 2019-07-24\n",
       "  * x        (x) float64 2.525e+06 2.525e+06 2.525e+06 ... 2.546e+06 2.546e+06\n",
       "  * y        (y) float64 1.159e+06 1.159e+06 1.159e+06 ... 1.149e+06 1.149e+06\n",
       "Attributes:\n",
       "    units:         degree\n",
       "    grid_mapping:  swiss_coordinates\n",
       "    long_name:     daily minimum temperature\n",
       "    grid_name:     ch01r.swisscors\n",
       "    version:       v1.2\n",
       "    prod_date:     2019-01-03 11:17:41\n",
       "    pyproj_srs:    +proj=somerc +lat_0=46.9524055555556 +lon_0=7.439583333333...</pre>"
      ],
      "text/plain": [
       "<xarray.DataArray 'ref_eto' (y: 1052, x: 2131)>\n",
       "[2241812 values with dtype=float32]\n",
       "Coordinates:\n",
       "    time     datetime64[ns] 2019-07-24\n",
       "  * x        (x) float64 2.525e+06 2.525e+06 2.525e+06 ... 2.546e+06 2.546e+06\n",
       "  * y        (y) float64 1.159e+06 1.159e+06 1.159e+06 ... 1.149e+06 1.149e+06\n",
       "Attributes:\n",
       "    units:         degree\n",
       "    grid_mapping:  swiss_coordinates\n",
       "    long_name:     daily minimum temperature\n",
       "    grid_name:     ch01r.swisscors\n",
       "    version:       v1.2\n",
       "    prod_date:     2019-01-03 11:17:41\n",
       "    pyproj_srs:    +proj=somerc +lat_0=46.9524055555556 +lon_0=7.439583333333..."
      ]
     },
     "execution_count": 39,
     "metadata": {},
     "output_type": "execute_result"
    }
   ],
   "source": [
    "ref_et_da"
   ]
  },
  {
   "cell_type": "code",
   "execution_count": 1,
   "metadata": {
    "collapsed": false
   },
   "outputs": [],
   "source": [
    "import pandas as pd\n",
    "from pylandsat import utils as pylandsat_utils"
   ]
  },
  {
   "cell_type": "code",
   "execution_count": 2,
   "metadata": {
    "collapsed": false
   },
   "outputs": [],
   "source": [
    "landsat_tiles_filepath = '../../lausanne-heat-islands/data/raw/landsat-tiles.csv'"
   ]
  },
  {
   "cell_type": "code",
   "execution_count": 3,
   "metadata": {
    "collapsed": false
   },
   "outputs": [],
   "source": [
    "landsat_dates = [\n",
    "    pylandsat_utils.meta_from_pid(landsat_tile)['acquisition_date']\n",
    "    for landsat_tile in pd.read_csv(landsat_tiles_filepath, header=None)[0]\n",
    "]"
   ]
  },
  {
   "cell_type": "code",
   "execution_count": 7,
   "metadata": {
    "collapsed": false
   },
   "outputs": [],
   "source": [
    "pd.Series(landsat_dates).to_csv('../data/raw/calibration-dates.csv', index=False)"
   ]
  },
  {
   "cell_type": "code",
   "execution_count": 16,
   "metadata": {
    "collapsed": false
   },
   "outputs": [
    {
     "data": {
      "text/plain": [
       "['2018-05-25',\n",
       " '2018-06-19',\n",
       " '2018-06-26',\n",
       " '2019-06-13',\n",
       " '2019-06-29',\n",
       " '2019-07-24',\n",
       " '2019-08-09',\n",
       " '2019-08-25']"
      ]
     },
     "execution_count": 16,
     "metadata": {},
     "output_type": "execute_result"
    }
   ],
   "source": []
  },
  {
   "cell_type": "code",
   "execution_count": 65,
   "metadata": {
    "collapsed": false
   },
   "outputs": [],
   "source": [
    "scenario_lulc_da = xr.open_dataarray('../../_lausanne-heat-islands/data/processed/scenario-lulc.nc')"
   ]
  },
  {
   "cell_type": "code",
   "execution_count": 67,
   "metadata": {
    "collapsed": false
   },
   "outputs": [],
   "source": [
    "import numpy as np\n",
    "import pandas as pd\n",
    "import xarray as xr\n",
    "\n",
    "shade_threshold = 0.75\n",
    "HIGH_TREE_CLASS_VAL = 1\n",
    "OTHER_CLASS_VAL = 2\n",
    "\n",
    "scenario_lulc_filepath = '../../_lausanne-heat-islands/data/processed/scenario-lulc.nc'\n",
    "biophysical_table_filepath = '../../_lausanne-heat-islands/data/processed/biophysical-table.csv'\n",
    "\n",
    "scenario_lulc_da = xr.open_dataarray(scenario_lulc_filepath)\n",
    "\n",
    "scenario_dims = scenario_lulc_da.coords.dims[:3]\n",
    "res = scenario_lulc_da.attrs['transform'][0]\n",
    "nodata = scenario_lulc_da.attrs['nodata']\n",
    "change_props = scenario_lulc_da['change_prop'].values\n",
    "scenario_runs = scenario_lulc_da['scenario_run'].values\n",
    "num_scenario_runs = len(scenario_runs)\n",
    "\n",
    "biophysical_df = pd.read_csv(biophysical_table_filepath)\n",
    "\n",
    "row = dict(change_prop=0, interaction='cluster', scenario_run=0)\n",
    "lulc_arr = scenario_lulc_da.sel(\n",
    "    {scenario_dim: row[scenario_dim]\n",
    "     for scenario_dim in scenario_dims}).values\n",
    "landscape_arr = np.full_like(lulc_arr, nodata)\n",
    "landscape_arr[lulc_arr != nodata] = OTHER_CLASS_VAL\n",
    "landscape_arr[np.isin(\n",
    "    lulc_arr, biophysical_df[biophysical_df['shade'] >= shade_threshold]\n",
    "    ['lucode'])] = HIGH_TREE_CLASS_VAL"
   ]
  },
  {
   "cell_type": "code",
   "execution_count": 69,
   "metadata": {
    "collapsed": false
   },
   "outputs": [],
   "source": [
    "import matplotlib.pyplot as plt\n"
   ]
  },
  {
   "cell_type": "code",
   "execution_count": 78,
   "metadata": {
    "collapsed": false
   },
   "outputs": [
    {
     "data": {
      "image/png": "[encoded data removed]",
      "text/plain": [
       "<Figure size 432x288 with 1 Axes>"
      ]
     },
     "metadata": {
      "needs_background": "light"
     },
     "output_type": "display_data"
    }
   ],
   "source": [
    "fig, ax = plt.subplots()\n",
    "ax.imshow(np.where(landscape_arr != 0, landscape_arr, np.nan), cmap='Greens_r')\n",
    "ax.set_axis_off()"
   ]
  },
  {
   "cell_type": "code",
   "execution_count": null,
   "metadata": {
    "collapsed": false
   },
   "outputs": [],
   "source": [
    "!conda install -y -c conda-forge pylandstats"
   ]
  },
  {
   "cell_type": "code",
   "execution_count": 79,
   "metadata": {
    "collapsed": false
   },
   "outputs": [
    {
     "ename": "ModuleNotFoundError",
     "evalue": "No module named 'pylandstats'",
     "output_type": "error",
     "traceback": [
      "\u001b[0;31m---------------------------------------------------------------------------\u001b[0m",
      "\u001b[0;31mModuleNotFoundError\u001b[0m                       Traceback (most recent call last)",
      "\u001b[0;32m<ipython-input-79-2b2a99c73c71>\u001b[0m in \u001b[0;36m<module>\u001b[0;34m\u001b[0m\n\u001b[0;32m----> 1\u001b[0;31m \u001b[0;32mimport\u001b[0m \u001b[0mpylandstats\u001b[0m \u001b[0;32mas\u001b[0m \u001b[0mpls\u001b[0m\u001b[0;34m\u001b[0m\u001b[0;34m\u001b[0m\u001b[0m\n\u001b[0m",
      "\u001b[0;31mModuleNotFoundError\u001b[0m: No module named 'pylandstats'"
     ]
    }
   ],
   "source": [
    "import pylandstats as pls"
   ]
  },
  {
   "cell_type": "code",
   "execution_count": null,
   "metadata": {
    "collapsed": false
   },
   "outputs": [],
   "source": [
    "pls.Landscape(landscape_arr, (res, res), nodata)"
   ]
  },
  {
   "cell_type": "code",
   "execution_count": null,
   "metadata": {
    "collapsed": false
   },
   "outputs": [],
   "source": [
    "import rasterio as rio\n",
    "from rasterio import plot"
   ]
  },
  {
   "cell_type": "code",
   "execution_count": null,
   "metadata": {
    "collapsed": false
   },
   "outputs": [],
   "source": []
  },
  {
   "cell_type": "code",
   "execution_count": 9,
   "metadata": {
    "collapsed": false
   },
   "outputs": [],
   "source": [
    "from os import environ, path\n",
    "\n",
    "import dotenv\n",
    "import fsspec\n",
    "import geopandas as gpd\n",
    "import numpy as np\n",
    "import pandas as pd\n",
    "import pyeto\n",
    "import salem  # noqa: F401\n",
    "import xarray as xr\n",
    "from rasterio import transform\n",
    "\n",
    "from lausanne_greening_scenarios import utils\n",
    "\n",
    "# 46.519833 degrees in radians\n",
    "LAUSANNE_LAT = 0.811924\n",
    "\n",
    "# constants useful for geo-operations\n",
    "METEOSWISS_CRS = 'epsg:21781'\n",
    "DROP_DIMS = ['lon', 'lat', 'dummy', 'swiss_coordinates']\n",
    "RENAME_DIMS_MAP = {'chx': 'x', 'chy': 'y'}\n",
    "\n",
    "# meteoswiss grid products needed to compute the reference evapotranspiration\n",
    "METEOSWISS_GRID_PRODUCTS = ['TminD', 'TabsD', 'TmaxD']\n",
    "\n",
    "# constants related to s3 remote file system\n",
    "METEOSWISS_GRID_DATA_PREFIX = 'meteoswiss'\n",
    "CACHE_STORAGE_DIR = path.join(path.dirname(utils.PACKAGE_ROOT),\n",
    "                              'data/.meteoswiss-cache')\n",
    "\n",
    "\n",
    "# meteoswiss utils\n",
    "def preprocess_meteoswiss_ds(ds):\n",
    "    # set crs attribute to dataset and all data variables individually\n",
    "    ds.attrs['pyproj_srs'] = METEOSWISS_CRS\n",
    "    for data_var in list(ds.data_vars):\n",
    "        ds[data_var].attrs['pyproj_srs'] = METEOSWISS_CRS\n",
    "\n",
    "    # drop unnecessary dimensions and rename the others so that salem can\n",
    "    # understand the grid\n",
    "    return ds.drop(DROP_DIMS).rename(RENAME_DIMS_MAP)\n",
    "\n",
    "\n",
    "def open_meteoswiss_s3_ds(fs,\n",
    "                          bucket_name,\n",
    "                          year,\n",
    "                          product,\n",
    "                          open_kws=None,\n",
    "                          shape=None,\n",
    "                          geometry=None,\n",
    "                          crs=None,\n",
    "                          preprocess=False,\n",
    "                          roi=True,\n",
    "                          prefix=None,\n",
    "                          subset_kws=None,\n",
    "                          roi_kws=None):\n",
    "    if prefix is None:\n",
    "        prefix = METEOSWISS_GRID_DATA_PREFIX\n",
    "    file_key = path.join(\n",
    "        bucket_name, prefix, product,\n",
    "        f'{product}_ch01r.swisscors_{year}01010000_{year}12310000.nc')\n",
    "    with fs.open(file_key) as file_obj:\n",
    "        if open_kws is None:\n",
    "            open_kws = {}\n",
    "        ds = xr.open_dataset(file_obj, **open_kws)\n",
    "\n",
    "    if shape is not None or geometry is not None:\n",
    "        ds = utils.clip_ds_to_extent(preprocess_meteoswiss_ds(ds),\n",
    "                                     shape=shape,\n",
    "                                     geometry=geometry,\n",
    "                                     crs=crs,\n",
    "                                     roi=roi,\n",
    "                                     subset_kws=subset_kws,\n",
    "                                     roi_kws=roi_kws)\n",
    "    elif preprocess:\n",
    "        ds = preprocess_meteoswiss_ds(ds)\n",
    "\n",
    "    return ds\n",
    "\n",
    "\n",
    "# other utils to compute the reference evapotranspiration\n",
    "def compute_solar_radiation(date):\n",
    "    lat = LAUSANNE_LAT\n",
    "    day_of_year = date.timetuple().tm_yday\n",
    "    sol_dec = pyeto.sol_dec(day_of_year)\n",
    "    sha = pyeto.sunset_hour_angle(lat, sol_dec)\n",
    "    ird = pyeto.inv_rel_dist_earth_sun(day_of_year)\n",
    "    return pyeto.et_rad(lat, sol_dec, sha, ird)\n",
    "\n",
    "\n",
    "def compute_ref_eto(day_ds):\n",
    "    return pyeto.hargreaves(\n",
    "        day_ds['TminD'], day_ds['TabsD'], day_ds['TmaxD'],\n",
    "        compute_solar_radiation(pd.to_datetime(day_ds.time.values)))"
   ]
  },
  {
   "cell_type": "code",
   "execution_count": 3,
   "metadata": {
    "collapsed": false
   },
   "outputs": [
    {
     "data": {
      "text/plain": [
       "True"
      ]
     },
     "execution_count": 3,
     "metadata": {},
     "output_type": "execute_result"
    }
   ],
   "source": [
    "# find .env automagically by walking up directories until it's found, then\n",
    "# load up the .env entries as environment variables\n",
    "dotenv.load_dotenv(dotenv.find_dotenv())"
   ]
  },
  {
   "cell_type": "code",
   "execution_count": 6,
   "metadata": {
    "collapsed": false
   },
   "outputs": [],
   "source": [
    "agglom_extent_filepath = '../data/raw/agglom-extent/agglom-extent.shp'\n",
    "agglom_lulc_filepath = '../data/raw/agglom-lulc.tif'\n",
    "year = 2019\n",
    "buffer_dist = 200"
   ]
  },
  {
   "cell_type": "code",
   "execution_count": 44,
   "metadata": {
    "collapsed": false
   },
   "outputs": [],
   "source": [
    "import rasterio as rio\n",
    "import salem"
   ]
  },
  {
   "cell_type": "code",
   "execution_count": 41,
   "metadata": {
    "collapsed": false
   },
   "outputs": [],
   "source": [
    "da = xr.open_dataarray('../../lausanne-heat-islands/data/processed/tair-ucm-maps.nc')"
   ]
  },
  {
   "cell_type": "code",
   "execution_count": 49,
   "metadata": {
    "collapsed": false
   },
   "outputs": [],
   "source": []
  },
  {
   "cell_type": "code",
   "execution_count": 57,
   "metadata": {
    "collapsed": false
   },
   "outputs": [],
   "source": [
    "grid = da.salem.grid\n",
    "width = grid.nx\n",
    "height = grid.ny\n",
    "west, east, south, north = grid.extent\n",
    "with rio.open('tair.tif',\n",
    "              'w',\n",
    "              driver='GTiff',\n",
    "              width=width,\n",
    "              height=height,\n",
    "              count=1,\n",
    "              dtype=da.dtype,\n",
    "              transform=transform.from_bounds(west, south, east, north, width,\n",
    "                                              height),\n",
    "              crs='epsg:2056') as dst:\n",
    "    dst.write(da.isel(time=5).values, 1)"
   ]
  },
  {
   "cell_type": "code",
   "execution_count": 7,
   "metadata": {
    "collapsed": false
   },
   "outputs": [
    {
     "name": "stderr",
     "output_type": "stream",
     "text": [
      "/home/martibosch/anaconda3/envs/lausanne-greening-scenarios/lib/python3.7/site-packages/pyproj/crs/crs.py:53: FutureWarning: '+init=<authority>:<code>' syntax is deprecated. '<authority>:<code>' is the preferred initialization method. When making the change, be mindful of axis order changes: https://pyproj4.github.io/pyproj/stable/gotchas.html#axis-order-changes-in-proj-6\n",
      "  return _prepare_from_string(\" \".join(pjargs))\n",
      "/home/martibosch/anaconda3/envs/lausanne-greening-scenarios/lib/python3.7/site-packages/pyproj/crs/crs.py:53: FutureWarning: '+init=<authority>:<code>' syntax is deprecated. '<authority>:<code>' is the preferred initialization method. When making the change, be mindful of axis order changes: https://pyproj4.github.io/pyproj/stable/gotchas.html#axis-order-changes-in-proj-6\n",
      "  return _prepare_from_string(\" \".join(pjargs))\n"
     ]
    },
    {
     "name": "stderr",
     "output_type": "stream",
     "text": [
      "/home/martibosch/anaconda3/envs/lausanne-greening-scenarios/lib/python3.7/site-packages/pyproj/crs/crs.py:53: FutureWarning: '+init=<authority>:<code>' syntax is deprecated. '<authority>:<code>' is the preferred initialization method. When making the change, be mindful of axis order changes: https://pyproj4.github.io/pyproj/stable/gotchas.html#axis-order-changes-in-proj-6\n",
      "  return _prepare_from_string(\" \".join(pjargs))\n",
      "/home/martibosch/anaconda3/envs/lausanne-greening-scenarios/lib/python3.7/site-packages/pyproj/crs/crs.py:53: FutureWarning: '+init=<authority>:<code>' syntax is deprecated. '<authority>:<code>' is the preferred initialization method. When making the change, be mindful of axis order changes: https://pyproj4.github.io/pyproj/stable/gotchas.html#axis-order-changes-in-proj-6\n",
      "  return _prepare_from_string(\" \".join(pjargs))\n"
     ]
    },
    {
     "name": "stderr",
     "output_type": "stream",
     "text": [
      "/home/martibosch/anaconda3/envs/lausanne-greening-scenarios/lib/python3.7/site-packages/pyproj/crs/crs.py:53: FutureWarning: '+init=<authority>:<code>' syntax is deprecated. '<authority>:<code>' is the preferred initialization method. When making the change, be mindful of axis order changes: https://pyproj4.github.io/pyproj/stable/gotchas.html#axis-order-changes-in-proj-6\n",
      "  return _prepare_from_string(\" \".join(pjargs))\n",
      "/home/martibosch/anaconda3/envs/lausanne-greening-scenarios/lib/python3.7/site-packages/pyproj/crs/crs.py:53: FutureWarning: '+init=<authority>:<code>' syntax is deprecated. '<authority>:<code>' is the preferred initialization method. When making the change, be mindful of axis order changes: https://pyproj4.github.io/pyproj/stable/gotchas.html#axis-order-changes-in-proj-6\n",
      "  return _prepare_from_string(\" \".join(pjargs))\n"
     ]
    },
    {
     "name": "stderr",
     "output_type": "stream",
     "text": [
      "/home/martibosch/anaconda3/envs/lausanne-greening-scenarios/lib/python3.7/site-packages/pyproj/crs/crs.py:280: FutureWarning: '+init=<authority>:<code>' syntax is deprecated. '<authority>:<code>' is the preferred initialization method. When making the change, be mindful of axis order changes: https://pyproj4.github.io/pyproj/stable/gotchas.html#axis-order-changes-in-proj-6\n",
      "  projstring = _prepare_from_string(projparams)\n"
     ]
    }
   ],
   "source": [
    "# get the agglomeration extent\n",
    "agglom_extent_gdf = gpd.read_file(agglom_extent_filepath)\n",
    "crs = agglom_extent_gdf.crs\n",
    "ref_geom = agglom_extent_gdf.loc[0]['geometry'].buffer(buffer_dist)\n",
    "# lake_geom = agglom_extent_gdf.loc[1]['geometry']\n",
    "\n",
    "# prepare remote access to MeteoSwiss grid data\n",
    "fs = fsspec.filesystem(\n",
    "    # 'filecache',\n",
    "    'simplecache',\n",
    "    target_protocol='s3',\n",
    "    target_options=dict(\n",
    "        profile=environ.get('S3_PROFILE_NAME'),\n",
    "        client_kwargs={'endpoint_url': environ.get('S3_ENDPOINT_URL')}),\n",
    "    cache_storage=CACHE_STORAGE_DIR)\n",
    "bucket_name = environ.get('S3_BUCKET_NAME')\n",
    "\n",
    "# pre-compute the meteo inputs\n",
    "T_ds = xr.Dataset({\n",
    "    meteoswiss_grid_product: open_meteoswiss_s3_ds(\n",
    "        fs,\n",
    "        bucket_name,\n",
    "        year,\n",
    "        meteoswiss_grid_product,\n",
    "        geometry=ref_geom,\n",
    "        crs=crs,\n",
    "        roi_kws={'all_touched': True},\n",
    "    )[meteoswiss_grid_product]\n",
    "    for meteoswiss_grid_product in METEOSWISS_GRID_PRODUCTS\n",
    "})\n",
    "\n",
    "# select the hottest date\n",
    "hottest_day_ds = T_ds.isel(time=T_ds['TabsD'].max(dim=['x', 'y']).argmax())\n",
    "\n",
    "# reference evapotranspiration\n",
    "ref_eto_da = compute_ref_eto(hottest_day_ds)\n",
    "\n",
    "# align the reference evapotranspiration data-array to the agglom. LULC\n",
    "ref_eto_da.name = 'ref_eto'\n",
    "ref_eto_da.attrs = T_ds[list(T_ds.data_vars)[0]].attrs.copy()\n",
    "ref_da = utils.salem_da_from_singleband(agglom_lulc_filepath, name='lulc')\n",
    "ref_eto_da = ref_da.salem.transform(ref_eto_da, interp='linear')"
   ]
  },
  {
   "cell_type": "code",
   "execution_count": 10,
   "metadata": {
    "collapsed": false
   },
   "outputs": [],
   "source": [
    "ref_et_da = ref_eto_da.copy()"
   ]
  },
  {
   "cell_type": "code",
   "execution_count": 11,
   "metadata": {
    "collapsed": false
   },
   "outputs": [],
   "source": [
    "ref_et_da.name = 'ref_et'\n",
    "grid = ref_et_da.salem.grid\n",
    "width = grid.nx\n",
    "height = grid.ny\n",
    "west, east, south, north = grid.extent\n",
    "# prepare metadata to dump the potential evapotranspiration rasters\n",
    "meta = dict(driver='GTiff',\n",
    "            dtype=ref_et_da.dtype,\n",
    "            nodata=np.nan,\n",
    "            width=width,\n",
    "            height=height,\n",
    "            count=1,\n",
    "            transform=transform.from_bounds(west, south, east, north,\n",
    "                                            width, height),\n",
    "            crs=ref_et_da.attrs['pyproj_srs'])"
   ]
  },
  {
   "cell_type": "code",
   "execution_count": null,
   "metadata": {
    "collapsed": false
   },
   "outputs": [],
   "source": []
  },
  {
   "cell_type": "code",
   "execution_count": 16,
   "metadata": {
    "collapsed": false
   },
   "outputs": [],
   "source": [
    "from os import environ, path\n",
    "\n",
    "import dotenv\n",
    "import fsspec\n",
    "import geopandas as gpd\n",
    "import pandas as pd\n",
    "import pyeto\n",
    "import xarray as xr\n",
    "\n",
    "from lausanne_greening_scenarios import utils\n",
    "\n",
    "# 46.519833 degrees in radians\n",
    "LAUSANNE_LAT = 0.811924\n",
    "\n",
    "# constants useful for geo-operations\n",
    "METEOSWISS_CRS = 'epsg:21781'\n",
    "DROP_DIMS = ['lon', 'lat', 'dummy', 'swiss_coordinates']\n",
    "RENAME_DIMS_MAP = {'chx': 'x', 'chy': 'y'}\n",
    "\n",
    "# meteoswiss grid products needed to compute the reference evapotranspiration\n",
    "METEOSWISS_GRID_PRODUCTS = ['TminD', 'TabsD', 'TmaxD']\n",
    "\n",
    "# constants related to s3 remote file system\n",
    "METEOSWISS_GRID_DATA_PREFIX = 'meteoswiss'\n",
    "CACHE_STORAGE_DIR = path.join(path.dirname(utils.PACKAGE_ROOT),\n",
    "                              'data/.meteoswiss-cache')\n",
    "\n",
    "\n",
    "# meteoswiss utils\n",
    "def preprocess_meteoswiss_ds(ds):\n",
    "    # set crs attribute to dataset and all data variables individually\n",
    "    ds.attrs['pyproj_srs'] = METEOSWISS_CRS\n",
    "    for data_var in list(ds.data_vars):\n",
    "        ds[data_var].attrs['pyproj_srs'] = METEOSWISS_CRS\n",
    "\n",
    "    # drop unnecessary dimensions and rename the others so that salem can\n",
    "    # understand the grid\n",
    "    return ds.drop(DROP_DIMS).rename(RENAME_DIMS_MAP)\n",
    "\n",
    "\n",
    "def open_meteoswiss_s3_ds(fs,\n",
    "                          bucket_name,\n",
    "                          year,\n",
    "                          product,\n",
    "                          open_kws=None,\n",
    "                          shape=None,\n",
    "                          geom=None,\n",
    "                          crs=None,\n",
    "                          preprocess=False,\n",
    "                          roi=True,\n",
    "                          prefix=None,\n",
    "                          subset_kws=None,\n",
    "                          roi_kws=None):\n",
    "    if prefix is None:\n",
    "        prefix = METEOSWISS_GRID_DATA_PREFIX\n",
    "    file_key = path.join(\n",
    "        bucket_name, prefix, product,\n",
    "        f'{product}_ch01r.swisscors_{year}01010000_{year}12310000.nc')\n",
    "    with fs.open(file_key) as file_obj:\n",
    "        if open_kws is None:\n",
    "            open_kws = {}\n",
    "        ds = xr.open_dataset(file_obj, **open_kws)\n",
    "\n",
    "    if shape is not None or geom is not None:\n",
    "        ds = utils.clip_ds_to_extent(preprocess_meteoswiss_ds(ds),\n",
    "                                     shape=shape,\n",
    "                                     geom=geom,\n",
    "                                     crs=crs,\n",
    "                                     roi=roi,\n",
    "                                     subset_kws=subset_kws,\n",
    "                                     roi_kws=roi_kws)\n",
    "    elif preprocess:\n",
    "        ds = preprocess_meteoswiss_ds(ds)\n",
    "\n",
    "    return ds\n",
    "\n",
    "\n",
    "# other utils to compute the reference evapotranspiration\n",
    "def compute_solar_radiation(date):\n",
    "    lat = LAUSANNE_LAT\n",
    "    day_of_year = date.timetuple().tm_yday\n",
    "    sol_dec = pyeto.sol_dec(day_of_year)\n",
    "    sha = pyeto.sunset_hour_angle(lat, sol_dec)\n",
    "    ird = pyeto.inv_rel_dist_earth_sun(day_of_year)\n",
    "    return pyeto.et_rad(lat, sol_dec, sha, ird)\n",
    "\n",
    "\n",
    "def compute_ref_eto(day_ds):\n",
    "    return pyeto.hargreaves(\n",
    "        day_ds['TminD'], day_ds['TabsD'], day_ds['TmaxD'],\n",
    "        compute_solar_radiation(pd.to_datetime(day_ds.time.values)))"
   ]
  },
  {
   "cell_type": "code",
   "execution_count": 15,
   "metadata": {
    "collapsed": false
   },
   "outputs": [
    {
     "name": "stderr",
     "output_type": "stream",
     "text": [
      "/home/martibosch/anaconda3/envs/lausanne-greening-scenarios/lib/python3.7/site-packages/pyproj/crs/crs.py:53: FutureWarning: '+init=<authority>:<code>' syntax is deprecated. '<authority>:<code>' is the preferred initialization method. When making the change, be mindful of axis order changes: https://pyproj4.github.io/pyproj/stable/gotchas.html#axis-order-changes-in-proj-6\n",
      "  return _prepare_from_string(\" \".join(pjargs))\n"
     ]
    },
    {
     "name": "stderr",
     "output_type": "stream",
     "text": [
      "/home/martibosch/anaconda3/envs/lausanne-greening-scenarios/lib/python3.7/site-packages/pyproj/crs/crs.py:53: FutureWarning: '+init=<authority>:<code>' syntax is deprecated. '<authority>:<code>' is the preferred initialization method. When making the change, be mindful of axis order changes: https://pyproj4.github.io/pyproj/stable/gotchas.html#axis-order-changes-in-proj-6\n",
      "  return _prepare_from_string(\" \".join(pjargs))\n"
     ]
    },
    {
     "name": "stderr",
     "output_type": "stream",
     "text": [
      "/home/martibosch/anaconda3/envs/lausanne-greening-scenarios/lib/python3.7/site-packages/pyproj/crs/crs.py:53: FutureWarning: '+init=<authority>:<code>' syntax is deprecated. '<authority>:<code>' is the preferred initialization method. When making the change, be mindful of axis order changes: https://pyproj4.github.io/pyproj/stable/gotchas.html#axis-order-changes-in-proj-6\n",
      "  return _prepare_from_string(\" \".join(pjargs))\n",
      "/home/martibosch/anaconda3/envs/lausanne-greening-scenarios/lib/python3.7/site-packages/pyproj/crs/crs.py:53: FutureWarning: '+init=<authority>:<code>' syntax is deprecated. '<authority>:<code>' is the preferred initialization method. When making the change, be mindful of axis order changes: https://pyproj4.github.io/pyproj/stable/gotchas.html#axis-order-changes-in-proj-6\n",
      "  return _prepare_from_string(\" \".join(pjargs))\n"
     ]
    },
    {
     "name": "stderr",
     "output_type": "stream",
     "text": [
      "/home/martibosch/anaconda3/envs/lausanne-greening-scenarios/lib/python3.7/site-packages/pyproj/crs/crs.py:53: FutureWarning: '+init=<authority>:<code>' syntax is deprecated. '<authority>:<code>' is the preferred initialization method. When making the change, be mindful of axis order changes: https://pyproj4.github.io/pyproj/stable/gotchas.html#axis-order-changes-in-proj-6\n",
      "  return _prepare_from_string(\" \".join(pjargs))\n",
      "/home/martibosch/anaconda3/envs/lausanne-greening-scenarios/lib/python3.7/site-packages/pyproj/crs/crs.py:53: FutureWarning: '+init=<authority>:<code>' syntax is deprecated. '<authority>:<code>' is the preferred initialization method. When making the change, be mindful of axis order changes: https://pyproj4.github.io/pyproj/stable/gotchas.html#axis-order-changes-in-proj-6\n",
      "  return _prepare_from_string(\" \".join(pjargs))\n"
     ]
    }
   ],
   "source": [
    "# get the agglomeration extent\n",
    "agglom_extent_gdf = gpd.read_file(agglom_extent_filepath)\n",
    "crs = agglom_extent_gdf.crs\n",
    "ref_geom = agglom_extent_gdf.loc[0]['geometry'].buffer(buffer_dist)\n",
    "# lake_geom = agglom_extent_gdf.loc[1]['geometry']\n",
    "\n",
    "# prepare remote access to MeteoSwiss grid data\n",
    "fs = fsspec.filesystem(\n",
    "    # 'filecache',\n",
    "    'simplecache',\n",
    "    target_protocol='s3',\n",
    "    target_options=dict(\n",
    "        profile=environ.get('S3_PROFILE_NAME'),\n",
    "        client_kwargs={'endpoint_url': environ.get('S3_ENDPOINT_URL')}),\n",
    "    cache_storage=CACHE_STORAGE_DIR)\n",
    "bucket_name = environ.get('S3_BUCKET_NAME')\n",
    "\n",
    "# pre-compute the meteo inputs\n",
    "T_ds = xr.Dataset({\n",
    "    meteoswiss_grid_product: open_meteoswiss_s3_ds(\n",
    "        fs,\n",
    "        bucket_name,\n",
    "        year,\n",
    "        meteoswiss_grid_product,\n",
    "        geom=ref_geom,\n",
    "        crs=crs,\n",
    "        roi_kws={'all_touched': True},\n",
    "    )[meteoswiss_grid_product]\n",
    "    for meteoswiss_grid_product in METEOSWISS_GRID_PRODUCTS\n",
    "})"
   ]
  },
  {
   "cell_type": "code",
   "execution_count": 27,
   "metadata": {
    "collapsed": false
   },
   "outputs": [
    {
     "data": {
      "text/plain": [
       "[<matplotlib.lines.Line2D at 0x7fa0867a3f50>]"
      ]
     },
     "execution_count": 27,
     "metadata": {},
     "output_type": "execute_result"
    },
    {
     "data": {
      "image/png": "[encoded data removed]",
      "text/plain": [
       "<Figure size 432x288 with 1 Axes>"
      ]
     },
     "metadata": {
      "needs_background": "light"
     },
     "output_type": "display_data"
    }
   ],
   "source": [
    "T_ds.max(dim=['x', 'y'])['TabsD'].plot()"
   ]
  },
  {
   "cell_type": "code",
   "execution_count": 62,
   "metadata": {
    "collapsed": false
   },
   "outputs": [
    {
     "data": {
      "text/plain": [
       "'24-07-2019'"
      ]
     },
     "execution_count": 62,
     "metadata": {},
     "output_type": "execute_result"
    }
   ],
   "source": [
    "pd.to_datetime(T_ds.isel(time=T_ds['TabsD'].max(dim=['x', 'y']).argmax()).time.item()).strftime('%d-%m-%Y')"
   ]
  },
  {
   "cell_type": "code",
   "execution_count": null,
   "metadata": {
    "collapsed": false
   },
   "outputs": [
    {
     "data": {
      "text/html": [
       "<div><svg style=\"position: absolute; width: 0; height: 0; overflow: hidden\">\n",
       "<defs>\n",
       "<symbol id=\"icon-database\" viewBox=\"0 0 32 32\">\n",
       "<title>Show/Hide data repr</title>\n",
       "<path d=\"M16 0c-8.837 0-16 2.239-16 5v4c0 2.761 7.163 5 16 5s16-2.239 16-5v-4c0-2.761-7.163-5-16-5z\"></path>\n",
       "<path d=\"M16 17c-8.837 0-16-2.239-16-5v6c0 2.761 7.163 5 16 5s16-2.239 16-5v-6c0 2.761-7.163 5-16 5z\"></path>\n",
       "<path d=\"M16 26c-8.837 0-16-2.239-16-5v6c0 2.761 7.163 5 16 5s16-2.239 16-5v-6c0 2.761-7.163 5-16 5z\"></path>\n",
       "</symbol>\n",
       "<symbol id=\"icon-file-text2\" viewBox=\"0 0 32 32\">\n",
       "<title>Show/Hide attributes</title>\n",
       "<path d=\"M28.681 7.159c-0.694-0.947-1.662-2.053-2.724-3.116s-2.169-2.030-3.116-2.724c-1.612-1.182-2.393-1.319-2.841-1.319h-15.5c-1.378 0-2.5 1.121-2.5 2.5v27c0 1.378 1.122 2.5 2.5 2.5h23c1.378 0 2.5-1.122 2.5-2.5v-19.5c0-0.448-0.137-1.23-1.319-2.841zM24.543 5.457c0.959 0.959 1.712 1.825 2.268 2.543h-4.811v-4.811c0.718 0.556 1.584 1.309 2.543 2.268zM28 29.5c0 0.271-0.229 0.5-0.5 0.5h-23c-0.271 0-0.5-0.229-0.5-0.5v-27c0-0.271 0.229-0.5 0.5-0.5 0 0 15.499-0 15.5 0v7c0 0.552 0.448 1 1 1h7v19.5z\"></path>\n",
       "<path d=\"M23 26h-14c-0.552 0-1-0.448-1-1s0.448-1 1-1h14c0.552 0 1 0.448 1 1s-0.448 1-1 1z\"></path>\n",
       "<path d=\"M23 22h-14c-0.552 0-1-0.448-1-1s0.448-1 1-1h14c0.552 0 1 0.448 1 1s-0.448 1-1 1z\"></path>\n",
       "<path d=\"M23 18h-14c-0.552 0-1-0.448-1-1s0.448-1 1-1h14c0.552 0 1 0.448 1 1s-0.448 1-1 1z\"></path>\n",
       "</symbol>\n",
       "</defs>\n",
       "</svg>\n",
       "<style>/* CSS stylesheet for displaying xarray objects in jupyterlab.\n",
       " *\n",
       " */\n",
       "\n",
       ":root {\n",
       "  --xr-font-color0: var(--jp-content-font-color0, rgba(0, 0, 0, 1));\n",
       "  --xr-font-color2: var(--jp-content-font-color2, rgba(0, 0, 0, 0.54));\n",
       "  --xr-font-color3: var(--jp-content-font-color3, rgba(0, 0, 0, 0.38));\n",
       "  --xr-border-color: var(--jp-border-color2, #e0e0e0);\n",
       "  --xr-disabled-color: var(--jp-layout-color3, #bdbdbd);\n",
       "  --xr-background-color: var(--jp-layout-color0, white);\n",
       "  --xr-background-color-row-even: var(--jp-layout-color1, white);\n",
       "  --xr-background-color-row-odd: var(--jp-layout-color2, #eeeeee);\n",
       "}\n",
       "\n",
       ".xr-wrap {\n",
       "  min-width: 300px;\n",
       "  max-width: 700px;\n",
       "}\n",
       "\n",
       ".xr-header {\n",
       "  padding-top: 6px;\n",
       "  padding-bottom: 6px;\n",
       "  margin-bottom: 4px;\n",
       "  border-bottom: solid 1px var(--xr-border-color);\n",
       "}\n",
       "\n",
       ".xr-header > div,\n",
       ".xr-header > ul {\n",
       "  display: inline;\n",
       "  margin-top: 0;\n",
       "  margin-bottom: 0;\n",
       "}\n",
       "\n",
       ".xr-obj-type,\n",
       ".xr-array-name {\n",
       "  margin-left: 2px;\n",
       "  margin-right: 10px;\n",
       "}\n",
       "\n",
       ".xr-obj-type {\n",
       "  color: var(--xr-font-color2);\n",
       "}\n",
       "\n",
       ".xr-sections {\n",
       "  padding-left: 0 !important;\n",
       "  display: grid;\n",
       "  grid-template-columns: 150px auto auto 1fr 20px 20px;\n",
       "}\n",
       "\n",
       ".xr-section-item {\n",
       "  display: contents;\n",
       "}\n",
       "\n",
       ".xr-section-item input {\n",
       "  display: none;\n",
       "}\n",
       "\n",
       ".xr-section-item input + label {\n",
       "  color: var(--xr-disabled-color);\n",
       "}\n",
       "\n",
       ".xr-section-item input:enabled + label {\n",
       "  cursor: pointer;\n",
       "  color: var(--xr-font-color2);\n",
       "}\n",
       "\n",
       ".xr-section-item input:enabled + label:hover {\n",
       "  color: var(--xr-font-color0);\n",
       "}\n",
       "\n",
       ".xr-section-summary {\n",
       "  grid-column: 1;\n",
       "  color: var(--xr-font-color2);\n",
       "  font-weight: 500;\n",
       "}\n",
       "\n",
       ".xr-section-summary > span {\n",
       "  display: inline-block;\n",
       "  padding-left: 0.5em;\n",
       "}\n",
       "\n",
       ".xr-section-summary-in:disabled + label {\n",
       "  color: var(--xr-font-color2);\n",
       "}\n",
       "\n",
       ".xr-section-summary-in + label:before {\n",
       "  display: inline-block;\n",
       "  content: '►';\n",
       "  font-size: 11px;\n",
       "  width: 15px;\n",
       "  text-align: center;\n",
       "}\n",
       "\n",
       ".xr-section-summary-in:disabled + label:before {\n",
       "  color: var(--xr-disabled-color);\n",
       "}\n",
       "\n",
       ".xr-section-summary-in:checked + label:before {\n",
       "  content: '▼';\n",
       "}\n",
       "\n",
       ".xr-section-summary-in:checked + label > span {\n",
       "  display: none;\n",
       "}\n",
       "\n",
       ".xr-section-summary,\n",
       ".xr-section-inline-details {\n",
       "  padding-top: 4px;\n",
       "  padding-bottom: 4px;\n",
       "}\n",
       "\n",
       ".xr-section-inline-details {\n",
       "  grid-column: 2 / -1;\n",
       "}\n",
       "\n",
       ".xr-section-details {\n",
       "  display: none;\n",
       "  grid-column: 1 / -1;\n",
       "  margin-bottom: 5px;\n",
       "}\n",
       "\n",
       ".xr-section-summary-in:checked ~ .xr-section-details {\n",
       "  display: contents;\n",
       "}\n",
       "\n",
       ".xr-array-wrap {\n",
       "  grid-column: 1 / -1;\n",
       "  display: grid;\n",
       "  grid-template-columns: 20px auto;\n",
       "}\n",
       "\n",
       ".xr-array-wrap > label {\n",
       "  grid-column: 1;\n",
       "  vertical-align: top;\n",
       "}\n",
       "\n",
       ".xr-preview {\n",
       "  color: var(--xr-font-color3);\n",
       "}\n",
       "\n",
       ".xr-array-preview,\n",
       ".xr-array-data {\n",
       "  padding: 0 5px !important;\n",
       "  grid-column: 2;\n",
       "}\n",
       "\n",
       ".xr-array-data,\n",
       ".xr-array-in:checked ~ .xr-array-preview {\n",
       "  display: none;\n",
       "}\n",
       "\n",
       ".xr-array-in:checked ~ .xr-array-data,\n",
       ".xr-array-preview {\n",
       "  display: inline-block;\n",
       "}\n",
       "\n",
       ".xr-dim-list {\n",
       "  display: inline-block !important;\n",
       "  list-style: none;\n",
       "  padding: 0 !important;\n",
       "  margin: 0;\n",
       "}\n",
       "\n",
       ".xr-dim-list li {\n",
       "  display: inline-block;\n",
       "  padding: 0;\n",
       "  margin: 0;\n",
       "}\n",
       "\n",
       ".xr-dim-list:before {\n",
       "  content: '(';\n",
       "}\n",
       "\n",
       ".xr-dim-list:after {\n",
       "  content: ')';\n",
       "}\n",
       "\n",
       ".xr-dim-list li:not(:last-child):after {\n",
       "  content: ',';\n",
       "  padding-right: 5px;\n",
       "}\n",
       "\n",
       ".xr-has-index {\n",
       "  font-weight: bold;\n",
       "}\n",
       "\n",
       ".xr-var-list,\n",
       ".xr-var-item {\n",
       "  display: contents;\n",
       "}\n",
       "\n",
       ".xr-var-item > div,\n",
       ".xr-var-item label,\n",
       ".xr-var-item > .xr-var-name span {\n",
       "  background-color: var(--xr-background-color-row-even);\n",
       "  margin-bottom: 0;\n",
       "}\n",
       "\n",
       ".xr-var-item > .xr-var-name:hover span {\n",
       "  padding-right: 5px;\n",
       "}\n",
       "\n",
       ".xr-var-list > li:nth-child(odd) > div,\n",
       ".xr-var-list > li:nth-child(odd) > label,\n",
       ".xr-var-list > li:nth-child(odd) > .xr-var-name span {\n",
       "  background-color: var(--xr-background-color-row-odd);\n",
       "}\n",
       "\n",
       ".xr-var-name {\n",
       "  grid-column: 1;\n",
       "}\n",
       "\n",
       ".xr-var-dims {\n",
       "  grid-column: 2;\n",
       "}\n",
       "\n",
       ".xr-var-dtype {\n",
       "  grid-column: 3;\n",
       "  text-align: right;\n",
       "  color: var(--xr-font-color2);\n",
       "}\n",
       "\n",
       ".xr-var-preview {\n",
       "  grid-column: 4;\n",
       "}\n",
       "\n",
       ".xr-var-name,\n",
       ".xr-var-dims,\n",
       ".xr-var-dtype,\n",
       ".xr-preview,\n",
       ".xr-attrs dt {\n",
       "  white-space: nowrap;\n",
       "  overflow: hidden;\n",
       "  text-overflow: ellipsis;\n",
       "  padding-right: 10px;\n",
       "}\n",
       "\n",
       ".xr-var-name:hover,\n",
       ".xr-var-dims:hover,\n",
       ".xr-var-dtype:hover,\n",
       ".xr-attrs dt:hover {\n",
       "  overflow: visible;\n",
       "  width: auto;\n",
       "  z-index: 1;\n",
       "}\n",
       "\n",
       ".xr-var-attrs,\n",
       ".xr-var-data {\n",
       "  display: none;\n",
       "  background-color: var(--xr-background-color) !important;\n",
       "  padding-bottom: 5px !important;\n",
       "}\n",
       "\n",
       ".xr-var-attrs-in:checked ~ .xr-var-attrs,\n",
       ".xr-var-data-in:checked ~ .xr-var-data {\n",
       "  display: block;\n",
       "}\n",
       "\n",
       ".xr-var-data > table {\n",
       "  float: right;\n",
       "}\n",
       "\n",
       ".xr-var-name span,\n",
       ".xr-var-data,\n",
       ".xr-attrs {\n",
       "  padding-left: 25px !important;\n",
       "}\n",
       "\n",
       ".xr-attrs,\n",
       ".xr-var-attrs,\n",
       ".xr-var-data {\n",
       "  grid-column: 1 / -1;\n",
       "}\n",
       "\n",
       "dl.xr-attrs {\n",
       "  padding: 0;\n",
       "  margin: 0;\n",
       "  display: grid;\n",
       "  grid-template-columns: 125px auto;\n",
       "}\n",
       "\n",
       ".xr-attrs dt, dd {\n",
       "  padding: 0;\n",
       "  margin: 0;\n",
       "  float: left;\n",
       "  padding-right: 10px;\n",
       "  width: auto;\n",
       "}\n",
       "\n",
       ".xr-attrs dt {\n",
       "  font-weight: normal;\n",
       "  grid-column: 1;\n",
       "}\n",
       "\n",
       ".xr-attrs dt:hover span {\n",
       "  display: inline-block;\n",
       "  background: var(--xr-background-color);\n",
       "  padding-right: 10px;\n",
       "}\n",
       "\n",
       ".xr-attrs dd {\n",
       "  grid-column: 2;\n",
       "  white-space: pre-wrap;\n",
       "  word-break: break-all;\n",
       "}\n",
       "\n",
       ".xr-icon-database,\n",
       ".xr-icon-file-text2 {\n",
       "  display: inline-block;\n",
       "  vertical-align: middle;\n",
       "  width: 1em;\n",
       "  height: 1.5em !important;\n",
       "  stroke-width: 0;\n",
       "  stroke: currentColor;\n",
       "  fill: currentColor;\n",
       "}\n",
       "</style><div class='xr-wrap'><div class='xr-header'><div class='xr-obj-type'>xarray.DataArray</div><div class='xr-array-name'></div><ul class='xr-dim-list'><li><span class='xr-has-index'>y</span>: 11</li><li><span class='xr-has-index'>x</span>: 21</li></ul></div><ul class='xr-sections'><li class='xr-section-item'><div class='xr-array-wrap'><input id='section-08fd78d7-abac-4e3e-84ef-2a5a6b901acc' class='xr-array-in' type='checkbox' ><label for='section-08fd78d7-abac-4e3e-84ef-2a5a6b901acc' title='Show/hide data repr'><svg class='icon xr-icon-database'><use xlink:href='#icon-database'></use></svg></label><div class='xr-array-preview xr-preview'><span>5.2909594 nan nan nan nan nan nan ... nan nan nan nan nan nan</span></div><pre class='xr-array-data'>array([[5.2909594,       nan,       nan,       nan,       nan,       nan,\n",
       "              nan,       nan,       nan,       nan,       nan,       nan,\n",
       "              nan,       nan,       nan,       nan,       nan,       nan,\n",
       "              nan, 4.865494 , 4.906884 ],\n",
       "       [5.261122 , 5.2384963,       nan,       nan,       nan,       nan,\n",
       "              nan,       nan,       nan,       nan,       nan,       nan,\n",
       "              nan,       nan,       nan,       nan,       nan, 4.7793427,\n",
       "        4.7942624, 4.656985 , 4.7230625],\n",
       "       [5.2110786, 5.2069936, 5.169689 , 5.1395636,       nan, 5.0610986,\n",
       "        5.015864 , 4.976732 ,       nan,       nan,       nan, 4.8283916,\n",
       "        4.7728343, 4.7404804, 4.711468 , 4.6922574, 4.6991606, 4.6796365,\n",
       "        4.648395 , 4.9960756, 5.1365247],\n",
       "       [5.1590157, 5.15659  , 5.1493773, 5.1188974, 5.079329 , 5.0284505,\n",
       "        4.9824333, 4.937702 , 4.911682 , 4.8895264, 4.836131 , 4.7987876,\n",
       "        4.7039657, 4.6146398, 4.5885253, 4.5752144, 4.59774  , 4.673849 ,\n",
       "        4.865025 , 5.0652947, 5.203598 ],\n",
       "       [5.098699 , 5.0738735, 5.0553813, 5.082386 , 5.0507145, 4.957926 ,\n",
       "        4.9616694, 4.8800473, 4.8728814, 4.8677115, 4.7931104, 4.6673517,\n",
       "        4.631064 , 4.674183 , 4.6997356, 4.7237825, 4.7637033, 4.9881186,\n",
       "        5.051137 , 5.179712 , 5.1955347],\n",
       "       [5.111902 , 5.0548553, 5.016854 , 4.947608 , 4.939967 , 4.95192  ,\n",
       "        4.9455075, 4.8639493, 4.857195 , 4.7944136, 4.691984 , 4.677702 ,\n",
       "        4.7805166, 4.828952 , 4.845099 , 4.9269958, 4.9407053, 5.1136904,\n",
       "        5.224701 , 5.253966 ,       nan],\n",
       "       [      nan,       nan, 5.0196333, 4.9221   , 4.905809 , 4.833631 ,\n",
       "        4.889557 , 4.8803554, 4.8205934, 4.748811 , 4.708181 , 4.8214936,\n",
       "        4.9015975, 4.953347 , 4.973045 , 5.0236564, 5.092672 , 5.144432 ,\n",
       "        5.2071104,       nan,       nan],\n",
       "       [      nan,       nan,       nan,       nan, 4.876099 , 4.8685   ,\n",
       "        4.9157295, 4.853591 , 4.7890854, 4.728623 , 4.8069944, 4.932525 ,\n",
       "        4.950519 , 5.03128  , 5.090124 , 5.1405015, 5.026463 , 5.0312757,\n",
       "        5.0675073,       nan,       nan],\n",
       "       [      nan,       nan,       nan,       nan,       nan, 4.912998 ,\n",
       "        4.8386545, 4.7964454, 4.7641287, 4.8366117, 4.9040723, 4.994538 ,\n",
       "        5.011764 , 5.11074  , 5.1957026, 5.1831803, 4.869819 , 4.8715672,\n",
       "        4.868311 ,       nan,       nan],\n",
       "       [      nan,       nan,       nan,       nan,       nan, 4.9122605,\n",
       "        4.839577 , 4.8655486, 4.891329 , 4.9323974, 4.988305 , 5.009044 ,\n",
       "        5.10724  , 5.1511865, 5.2080913, 5.031778 , 4.869008 , 4.86932  ,\n",
       "        4.859481 ,       nan,       nan],\n",
       "       [      nan,       nan,       nan,       nan,       nan, 4.9274793,\n",
       "        4.8718147, 4.9555135, 5.0021   , 5.0119987, 5.035132 , 5.0342183,\n",
       "        5.139148 , 5.1934853, 5.0862913,       nan,       nan,       nan,\n",
       "              nan,       nan,       nan]], dtype=float32)</pre></div></li><li class='xr-section-item'><input id='section-2cdc5f28-dd8d-4cd7-b5dd-c035a80e4e15' class='xr-section-summary-in' type='checkbox'  checked><label for='section-2cdc5f28-dd8d-4cd7-b5dd-c035a80e4e15' class='xr-section-summary' >Coordinates: <span>(3)</span></label><div class='xr-section-inline-details'></div><div class='xr-section-details'><ul class='xr-var-list'><li class='xr-var-item'><div class='xr-var-name'><span class='xr-has-index'>x</span></div><div class='xr-var-dims'>(x)</div><div class='xr-var-dtype'>float64</div><div class='xr-var-preview xr-preview'>5.255e+05 5.265e+05 ... 5.455e+05</div><input id='attrs-b2c7f433-9d7e-409d-8234-e06e742abf91' class='xr-var-attrs-in' type='checkbox' ><label for='attrs-b2c7f433-9d7e-409d-8234-e06e742abf91' title='Show/Hide attributes'><svg class='icon xr-icon-file-text2'><use xlink:href='#icon-file-text2'></use></svg></label><input id='data-76341627-da27-4e60-846c-9f02eaeccabf' class='xr-var-data-in' type='checkbox'><label for='data-76341627-da27-4e60-846c-9f02eaeccabf' title='Show/Hide data repr'><svg class='icon xr-icon-database'><use xlink:href='#icon-database'></use></svg></label><div class='xr-var-attrs'><dl class='xr-attrs'><dt><span>units :</span></dt><dd>meters_east</dd><dt><span>long_name :</span></dt><dd>swiss easting</dd><dt><span>standard_name :</span></dt><dd>projection x coordinate</dd></dl></div><pre class='xr-var-data'>array([525500., 526500., 527500., 528500., 529500., 530500., 531500., 532500.,\n",
       "       533500., 534500., 535500., 536500., 537500., 538500., 539500., 540500.,\n",
       "       541500., 542500., 543500., 544500., 545500.])</pre></li><li class='xr-var-item'><div class='xr-var-name'><span class='xr-has-index'>y</span></div><div class='xr-var-dims'>(y)</div><div class='xr-var-dtype'>float64</div><div class='xr-var-preview xr-preview'>1.485e+05 1.495e+05 ... 1.585e+05</div><input id='attrs-754b6226-1a06-4952-b727-342445403a62' class='xr-var-attrs-in' type='checkbox' ><label for='attrs-754b6226-1a06-4952-b727-342445403a62' title='Show/Hide attributes'><svg class='icon xr-icon-file-text2'><use xlink:href='#icon-file-text2'></use></svg></label><input id='data-fc703cee-3d74-4b65-ad46-d868f4c64df3' class='xr-var-data-in' type='checkbox'><label for='data-fc703cee-3d74-4b65-ad46-d868f4c64df3' title='Show/Hide data repr'><svg class='icon xr-icon-database'><use xlink:href='#icon-database'></use></svg></label><div class='xr-var-attrs'><dl class='xr-attrs'><dt><span>units :</span></dt><dd>meters_north</dd><dt><span>long_name :</span></dt><dd>swiss northing</dd><dt><span>standard_name :</span></dt><dd>projection y coordinate</dd></dl></div><pre class='xr-var-data'>array([148500., 149500., 150500., 151500., 152500., 153500., 154500., 155500.,\n",
       "       156500., 157500., 158500.])</pre></li><li class='xr-var-item'><div class='xr-var-name'><span>time</span></div><div class='xr-var-dims'>()</div><div class='xr-var-dtype'>datetime64[ns]</div><div class='xr-var-preview xr-preview'>2019-07-24</div><input id='attrs-4c6277da-5876-4b72-a986-ef21a23dfeff' class='xr-var-attrs-in' type='checkbox' ><label for='attrs-4c6277da-5876-4b72-a986-ef21a23dfeff' title='Show/Hide attributes'><svg class='icon xr-icon-file-text2'><use xlink:href='#icon-file-text2'></use></svg></label><input id='data-ff33390c-9bc5-4907-a1ca-88db0288940d' class='xr-var-data-in' type='checkbox'><label for='data-ff33390c-9bc5-4907-a1ca-88db0288940d' title='Show/Hide data repr'><svg class='icon xr-icon-database'><use xlink:href='#icon-database'></use></svg></label><div class='xr-var-attrs'><dl class='xr-attrs'><dt><span>long_name :</span></dt><dd>time</dd><dt><span>axis :</span></dt><dd>T</dd></dl></div><pre class='xr-var-data'>array(&#x27;2019-07-24T00:00:00.000000000&#x27;, dtype=&#x27;datetime64[ns]&#x27;)</pre></li></ul></div></li><li class='xr-section-item'><input id='section-688857ef-4186-4a15-8d13-9a7057abed83' class='xr-section-summary-in' type='checkbox' disabled ><label for='section-688857ef-4186-4a15-8d13-9a7057abed83' class='xr-section-summary'  title='Expand/collapse section'>Attributes: <span>(0)</span></label><div class='xr-section-inline-details'></div><div class='xr-section-details'><dl class='xr-attrs'></dl></div></li></ul></div></div>"
      ],
      "text/plain": [
       "<xarray.DataArray (y: 11, x: 21)>\n",
       "array([[5.2909594,       nan,       nan,       nan,       nan,       nan,\n",
       "              nan,       nan,       nan,       nan,       nan,       nan,\n",
       "              nan,       nan,       nan,       nan,       nan,       nan,\n",
       "              nan, 4.865494 , 4.906884 ],\n",
       "       [5.261122 , 5.2384963,       nan,       nan,       nan,       nan,\n",
       "              nan,       nan,       nan,       nan,       nan,       nan,\n",
       "              nan,       nan,       nan,       nan,       nan, 4.7793427,\n",
       "        4.7942624, 4.656985 , 4.7230625],\n",
       "       [5.2110786, 5.2069936, 5.169689 , 5.1395636,       nan, 5.0610986,\n",
       "        5.015864 , 4.976732 ,       nan,       nan,       nan, 4.8283916,\n",
       "        4.7728343, 4.7404804, 4.711468 , 4.6922574, 4.6991606, 4.6796365,\n",
       "        4.648395 , 4.9960756, 5.1365247],\n",
       "       [5.1590157, 5.15659  , 5.1493773, 5.1188974, 5.079329 , 5.0284505,\n",
       "        4.9824333, 4.937702 , 4.911682 , 4.8895264, 4.836131 , 4.7987876,\n",
       "        4.7039657, 4.6146398, 4.5885253, 4.5752144, 4.59774  , 4.673849 ,\n",
       "        4.865025 , 5.0652947, 5.203598 ],\n",
       "       [5.098699 , 5.0738735, 5.0553813, 5.082386 , 5.0507145, 4.957926 ,\n",
       "        4.9616694, 4.8800473, 4.8728814, 4.8677115, 4.7931104, 4.6673517,\n",
       "        4.631064 , 4.674183 , 4.6997356, 4.7237825, 4.7637033, 4.9881186,\n",
       "        5.051137 , 5.179712 , 5.1955347],\n",
       "       [5.111902 , 5.0548553, 5.016854 , 4.947608 , 4.939967 , 4.95192  ,\n",
       "        4.9455075, 4.8639493, 4.857195 , 4.7944136, 4.691984 , 4.677702 ,\n",
       "        4.7805166, 4.828952 , 4.845099 , 4.9269958, 4.9407053, 5.1136904,\n",
       "        5.224701 , 5.253966 ,       nan],\n",
       "       [      nan,       nan, 5.0196333, 4.9221   , 4.905809 , 4.833631 ,\n",
       "        4.889557 , 4.8803554, 4.8205934, 4.748811 , 4.708181 , 4.8214936,\n",
       "        4.9015975, 4.953347 , 4.973045 , 5.0236564, 5.092672 , 5.144432 ,\n",
       "        5.2071104,       nan,       nan],\n",
       "       [      nan,       nan,       nan,       nan, 4.876099 , 4.8685   ,\n",
       "        4.9157295, 4.853591 , 4.7890854, 4.728623 , 4.8069944, 4.932525 ,\n",
       "        4.950519 , 5.03128  , 5.090124 , 5.1405015, 5.026463 , 5.0312757,\n",
       "        5.0675073,       nan,       nan],\n",
       "       [      nan,       nan,       nan,       nan,       nan, 4.912998 ,\n",
       "        4.8386545, 4.7964454, 4.7641287, 4.8366117, 4.9040723, 4.994538 ,\n",
       "        5.011764 , 5.11074  , 5.1957026, 5.1831803, 4.869819 , 4.8715672,\n",
       "        4.868311 ,       nan,       nan],\n",
       "       [      nan,       nan,       nan,       nan,       nan, 4.9122605,\n",
       "        4.839577 , 4.8655486, 4.891329 , 4.9323974, 4.988305 , 5.009044 ,\n",
       "        5.10724  , 5.1511865, 5.2080913, 5.031778 , 4.869008 , 4.86932  ,\n",
       "        4.859481 ,       nan,       nan],\n",
       "       [      nan,       nan,       nan,       nan,       nan, 4.9274793,\n",
       "        4.8718147, 4.9555135, 5.0021   , 5.0119987, 5.035132 , 5.0342183,\n",
       "        5.139148 , 5.1934853, 5.0862913,       nan,       nan,       nan,\n",
       "              nan,       nan,       nan]], dtype=float32)\n",
       "Coordinates:\n",
       "  * x        (x) float64 5.255e+05 5.265e+05 5.275e+05 ... 5.445e+05 5.455e+05\n",
       "  * y        (y) float64 1.485e+05 1.495e+05 1.505e+05 ... 1.575e+05 1.585e+05\n",
       "    time     datetime64[ns] 2019-07-24"
      ]
     },
     "execution_count": 42,
     "metadata": {},
     "output_type": "execute_result"
    }
   ],
   "source": [
    "compute_ref_eto(T_ds.isel(time=T_ds['TabsD'].max(dim=['x', 'y']).argmax()))"
   ]
  },
  {
   "cell_type": "code",
   "execution_count": 39,
   "metadata": {
    "collapsed": false
   },
   "outputs": [
    {
     "ename": "KeyError",
     "evalue": "'TminD'",
     "output_type": "error",
     "traceback": [
      "\u001b[0;31m---------------------------------------------------------------------------\u001b[0m",
      "\u001b[0;31mKeyError\u001b[0m                                  Traceback (most recent call last)",
      "\u001b[0;32m~/anaconda3/envs/lausanne-greening-scenarios/lib/python3.7/site-packages/xarray/core/dataarray.py\u001b[0m in \u001b[0;36m_getitem_coord\u001b[0;34m(self, key)\u001b[0m\n\u001b[1;32m    616\u001b[0m         \u001b[0;32mtry\u001b[0m\u001b[0;34m:\u001b[0m\u001b[0;34m\u001b[0m\u001b[0;34m\u001b[0m\u001b[0m\n\u001b[0;32m--> 617\u001b[0;31m             \u001b[0mvar\u001b[0m \u001b[0;34m=\u001b[0m \u001b[0mself\u001b[0m\u001b[0;34m.\u001b[0m\u001b[0m_coords\u001b[0m\u001b[0;34m[\u001b[0m\u001b[0mkey\u001b[0m\u001b[0;34m]\u001b[0m\u001b[0;34m\u001b[0m\u001b[0;34m\u001b[0m\u001b[0m\n\u001b[0m\u001b[1;32m    618\u001b[0m         \u001b[0;32mexcept\u001b[0m \u001b[0mKeyError\u001b[0m\u001b[0;34m:\u001b[0m\u001b[0;34m\u001b[0m\u001b[0;34m\u001b[0m\u001b[0m\n",
      "\u001b[0;31mKeyError\u001b[0m: 'TminD'",
      "\nDuring handling of the above exception, another exception occurred:\n",
      "\u001b[0;31mKeyError\u001b[0m                                  Traceback (most recent call last)",
      "\u001b[0;32m<ipython-input-39-08d89d420194>\u001b[0m in \u001b[0;36m<module>\u001b[0;34m\u001b[0m\n\u001b[0;32m----> 1\u001b[0;31m \u001b[0mT_ds\u001b[0m\u001b[0;34m.\u001b[0m\u001b[0misel\u001b[0m\u001b[0;34m(\u001b[0m\u001b[0mtime\u001b[0m\u001b[0;34m=\u001b[0m\u001b[0mT_ds\u001b[0m\u001b[0;34m[\u001b[0m\u001b[0;34m'TabsD'\u001b[0m\u001b[0;34m]\u001b[0m\u001b[0;34m.\u001b[0m\u001b[0mmax\u001b[0m\u001b[0;34m(\u001b[0m\u001b[0mdim\u001b[0m\u001b[0;34m=\u001b[0m\u001b[0;34m[\u001b[0m\u001b[0;34m'x'\u001b[0m\u001b[0;34m,\u001b[0m \u001b[0;34m'y'\u001b[0m\u001b[0;34m]\u001b[0m\u001b[0;34m)\u001b[0m\u001b[0;34m.\u001b[0m\u001b[0margmax\u001b[0m\u001b[0;34m(\u001b[0m\u001b[0;34m)\u001b[0m\u001b[0;34m)\u001b[0m\u001b[0;34m.\u001b[0m\u001b[0mmap\u001b[0m\u001b[0;34m(\u001b[0m\u001b[0mcompute_ref_eto\u001b[0m\u001b[0;34m)\u001b[0m\u001b[0;34m\u001b[0m\u001b[0;34m\u001b[0m\u001b[0m\n\u001b[0m",
      "\u001b[0;32m~/anaconda3/envs/lausanne-greening-scenarios/lib/python3.7/site-packages/xarray/core/dataset.py\u001b[0m in \u001b[0;36mmap\u001b[0;34m(self, func, keep_attrs, args, **kwargs)\u001b[0m\n\u001b[1;32m   4333\u001b[0m         variables = {\n\u001b[1;32m   4334\u001b[0m             \u001b[0mk\u001b[0m\u001b[0;34m:\u001b[0m \u001b[0mmaybe_wrap_array\u001b[0m\u001b[0;34m(\u001b[0m\u001b[0mv\u001b[0m\u001b[0;34m,\u001b[0m \u001b[0mfunc\u001b[0m\u001b[0;34m(\u001b[0m\u001b[0mv\u001b[0m\u001b[0;34m,\u001b[0m \u001b[0;34m*\u001b[0m\u001b[0margs\u001b[0m\u001b[0;34m,\u001b[0m \u001b[0;34m**\u001b[0m\u001b[0mkwargs\u001b[0m\u001b[0;34m)\u001b[0m\u001b[0;34m)\u001b[0m\u001b[0;34m\u001b[0m\u001b[0;34m\u001b[0m\u001b[0m\n\u001b[0;32m-> 4335\u001b[0;31m             \u001b[0;32mfor\u001b[0m \u001b[0mk\u001b[0m\u001b[0;34m,\u001b[0m \u001b[0mv\u001b[0m \u001b[0;32min\u001b[0m \u001b[0mself\u001b[0m\u001b[0;34m.\u001b[0m\u001b[0mdata_vars\u001b[0m\u001b[0;34m.\u001b[0m\u001b[0mitems\u001b[0m\u001b[0;34m(\u001b[0m\u001b[0;34m)\u001b[0m\u001b[0;34m\u001b[0m\u001b[0;34m\u001b[0m\u001b[0m\n\u001b[0m\u001b[1;32m   4336\u001b[0m         }\n\u001b[1;32m   4337\u001b[0m         \u001b[0;32mif\u001b[0m \u001b[0mkeep_attrs\u001b[0m \u001b[0;32mis\u001b[0m \u001b[0;32mNone\u001b[0m\u001b[0;34m:\u001b[0m\u001b[0;34m\u001b[0m\u001b[0;34m\u001b[0m\u001b[0m\n",
      "\u001b[0;32m~/anaconda3/envs/lausanne-greening-scenarios/lib/python3.7/site-packages/xarray/core/dataset.py\u001b[0m in \u001b[0;36m<dictcomp>\u001b[0;34m(.0)\u001b[0m\n\u001b[1;32m   4333\u001b[0m         variables = {\n\u001b[1;32m   4334\u001b[0m             \u001b[0mk\u001b[0m\u001b[0;34m:\u001b[0m \u001b[0mmaybe_wrap_array\u001b[0m\u001b[0;34m(\u001b[0m\u001b[0mv\u001b[0m\u001b[0;34m,\u001b[0m \u001b[0mfunc\u001b[0m\u001b[0;34m(\u001b[0m\u001b[0mv\u001b[0m\u001b[0;34m,\u001b[0m \u001b[0;34m*\u001b[0m\u001b[0margs\u001b[0m\u001b[0;34m,\u001b[0m \u001b[0;34m**\u001b[0m\u001b[0mkwargs\u001b[0m\u001b[0;34m)\u001b[0m\u001b[0;34m)\u001b[0m\u001b[0;34m\u001b[0m\u001b[0;34m\u001b[0m\u001b[0m\n\u001b[0;32m-> 4335\u001b[0;31m             \u001b[0;32mfor\u001b[0m \u001b[0mk\u001b[0m\u001b[0;34m,\u001b[0m \u001b[0mv\u001b[0m \u001b[0;32min\u001b[0m \u001b[0mself\u001b[0m\u001b[0;34m.\u001b[0m\u001b[0mdata_vars\u001b[0m\u001b[0;34m.\u001b[0m\u001b[0mitems\u001b[0m\u001b[0;34m(\u001b[0m\u001b[0;34m)\u001b[0m\u001b[0;34m\u001b[0m\u001b[0;34m\u001b[0m\u001b[0m\n\u001b[0m\u001b[1;32m   4336\u001b[0m         }\n\u001b[1;32m   4337\u001b[0m         \u001b[0;32mif\u001b[0m \u001b[0mkeep_attrs\u001b[0m \u001b[0;32mis\u001b[0m \u001b[0;32mNone\u001b[0m\u001b[0;34m:\u001b[0m\u001b[0;34m\u001b[0m\u001b[0;34m\u001b[0m\u001b[0m\n",
      "\u001b[0;32m<ipython-input-16-b857f2e5aa49>\u001b[0m in \u001b[0;36mcompute_ref_eto\u001b[0;34m(day_ds)\u001b[0m\n\u001b[1;32m     88\u001b[0m \u001b[0;32mdef\u001b[0m \u001b[0mcompute_ref_eto\u001b[0m\u001b[0;34m(\u001b[0m\u001b[0mday_ds\u001b[0m\u001b[0;34m)\u001b[0m\u001b[0;34m:\u001b[0m\u001b[0;34m\u001b[0m\u001b[0;34m\u001b[0m\u001b[0m\n\u001b[1;32m     89\u001b[0m     return pyeto.hargreaves(\n\u001b[0;32m---> 90\u001b[0;31m         \u001b[0mday_ds\u001b[0m\u001b[0;34m[\u001b[0m\u001b[0;34m'TminD'\u001b[0m\u001b[0;34m]\u001b[0m\u001b[0;34m,\u001b[0m \u001b[0mday_ds\u001b[0m\u001b[0;34m[\u001b[0m\u001b[0;34m'TabsD'\u001b[0m\u001b[0;34m]\u001b[0m\u001b[0;34m,\u001b[0m \u001b[0mday_ds\u001b[0m\u001b[0;34m[\u001b[0m\u001b[0;34m'TmaxD'\u001b[0m\u001b[0;34m]\u001b[0m\u001b[0;34m,\u001b[0m\u001b[0;34m\u001b[0m\u001b[0;34m\u001b[0m\u001b[0m\n\u001b[0m\u001b[1;32m     91\u001b[0m         compute_solar_radiation(pd.to_datetime(day_ds.time.values)))\n",
      "\u001b[0;32m~/anaconda3/envs/lausanne-greening-scenarios/lib/python3.7/site-packages/xarray/core/dataarray.py\u001b[0m in \u001b[0;36m__getitem__\u001b[0;34m(self, key)\u001b[0m\n\u001b[1;32m    626\u001b[0m     \u001b[0;32mdef\u001b[0m \u001b[0m__getitem__\u001b[0m\u001b[0;34m(\u001b[0m\u001b[0mself\u001b[0m\u001b[0;34m,\u001b[0m \u001b[0mkey\u001b[0m\u001b[0;34m:\u001b[0m \u001b[0mAny\u001b[0m\u001b[0;34m)\u001b[0m \u001b[0;34m->\u001b[0m \u001b[0;34m\"DataArray\"\u001b[0m\u001b[0;34m:\u001b[0m\u001b[0;34m\u001b[0m\u001b[0;34m\u001b[0m\u001b[0m\n\u001b[1;32m    627\u001b[0m         \u001b[0;32mif\u001b[0m \u001b[0misinstance\u001b[0m\u001b[0;34m(\u001b[0m\u001b[0mkey\u001b[0m\u001b[0;34m,\u001b[0m \u001b[0mstr\u001b[0m\u001b[0;34m)\u001b[0m\u001b[0;34m:\u001b[0m\u001b[0;34m\u001b[0m\u001b[0;34m\u001b[0m\u001b[0m\n\u001b[0;32m--> 628\u001b[0;31m             \u001b[0;32mreturn\u001b[0m \u001b[0mself\u001b[0m\u001b[0;34m.\u001b[0m\u001b[0m_getitem_coord\u001b[0m\u001b[0;34m(\u001b[0m\u001b[0mkey\u001b[0m\u001b[0;34m)\u001b[0m\u001b[0;34m\u001b[0m\u001b[0;34m\u001b[0m\u001b[0m\n\u001b[0m\u001b[1;32m    629\u001b[0m         \u001b[0;32melse\u001b[0m\u001b[0;34m:\u001b[0m\u001b[0;34m\u001b[0m\u001b[0;34m\u001b[0m\u001b[0m\n\u001b[1;32m    630\u001b[0m             \u001b[0;31m# xarray-style array indexing\u001b[0m\u001b[0;34m\u001b[0m\u001b[0;34m\u001b[0m\u001b[0;34m\u001b[0m\u001b[0m\n",
      "\u001b[0;32m~/anaconda3/envs/lausanne-greening-scenarios/lib/python3.7/site-packages/xarray/core/dataarray.py\u001b[0m in \u001b[0;36m_getitem_coord\u001b[0;34m(self, key)\u001b[0m\n\u001b[1;32m    619\u001b[0m             \u001b[0mdim_sizes\u001b[0m \u001b[0;34m=\u001b[0m \u001b[0mdict\u001b[0m\u001b[0;34m(\u001b[0m\u001b[0mzip\u001b[0m\u001b[0;34m(\u001b[0m\u001b[0mself\u001b[0m\u001b[0;34m.\u001b[0m\u001b[0mdims\u001b[0m\u001b[0;34m,\u001b[0m \u001b[0mself\u001b[0m\u001b[0;34m.\u001b[0m\u001b[0mshape\u001b[0m\u001b[0;34m)\u001b[0m\u001b[0;34m)\u001b[0m\u001b[0;34m\u001b[0m\u001b[0;34m\u001b[0m\u001b[0m\n\u001b[1;32m    620\u001b[0m             _, key, var = _get_virtual_variable(\n\u001b[0;32m--> 621\u001b[0;31m                 \u001b[0mself\u001b[0m\u001b[0;34m.\u001b[0m\u001b[0m_coords\u001b[0m\u001b[0;34m,\u001b[0m \u001b[0mkey\u001b[0m\u001b[0;34m,\u001b[0m \u001b[0mself\u001b[0m\u001b[0;34m.\u001b[0m\u001b[0m_level_coords\u001b[0m\u001b[0;34m,\u001b[0m \u001b[0mdim_sizes\u001b[0m\u001b[0;34m\u001b[0m\u001b[0;34m\u001b[0m\u001b[0m\n\u001b[0m\u001b[1;32m    622\u001b[0m             )\n\u001b[1;32m    623\u001b[0m \u001b[0;34m\u001b[0m\u001b[0m\n",
      "\u001b[0;32m~/anaconda3/envs/lausanne-greening-scenarios/lib/python3.7/site-packages/xarray/core/dataset.py\u001b[0m in \u001b[0;36m_get_virtual_variable\u001b[0;34m(variables, key, level_vars, dim_sizes)\u001b[0m\n\u001b[1;32m    165\u001b[0m         \u001b[0mref_var\u001b[0m \u001b[0;34m=\u001b[0m \u001b[0mdim_var\u001b[0m\u001b[0;34m.\u001b[0m\u001b[0mto_index_variable\u001b[0m\u001b[0;34m(\u001b[0m\u001b[0;34m)\u001b[0m\u001b[0;34m.\u001b[0m\u001b[0mget_level_variable\u001b[0m\u001b[0;34m(\u001b[0m\u001b[0mref_name\u001b[0m\u001b[0;34m)\u001b[0m\u001b[0;34m\u001b[0m\u001b[0;34m\u001b[0m\u001b[0m\n\u001b[1;32m    166\u001b[0m     \u001b[0;32melse\u001b[0m\u001b[0;34m:\u001b[0m\u001b[0;34m\u001b[0m\u001b[0;34m\u001b[0m\u001b[0m\n\u001b[0;32m--> 167\u001b[0;31m         \u001b[0mref_var\u001b[0m \u001b[0;34m=\u001b[0m \u001b[0mvariables\u001b[0m\u001b[0;34m[\u001b[0m\u001b[0mref_name\u001b[0m\u001b[0;34m]\u001b[0m\u001b[0;34m\u001b[0m\u001b[0;34m\u001b[0m\u001b[0m\n\u001b[0m\u001b[1;32m    168\u001b[0m \u001b[0;34m\u001b[0m\u001b[0m\n\u001b[1;32m    169\u001b[0m     \u001b[0;32mif\u001b[0m \u001b[0mvar_name\u001b[0m \u001b[0;32mis\u001b[0m \u001b[0;32mNone\u001b[0m\u001b[0;34m:\u001b[0m\u001b[0;34m\u001b[0m\u001b[0;34m\u001b[0m\u001b[0m\n",
      "\u001b[0;31mKeyError\u001b[0m: 'TminD'"
     ]
    }
   ],
   "source": [
    "T_ds.isel(time=T_ds['TabsD'].max(dim=['x', 'y']).argmax()).map(compute_ref_eto)"
   ]
  }
 ],
 "metadata": {
  "kernelspec": {
   "argv": [
    "/home/martibosch/anaconda3/envs/lausanne-greening-scenarios/bin/python",
    "-m",
    "ipykernel_launcher",
    "-f",
    "{connection_file}"
   ],
   "display_name": "Python (lausanne-greening-scenarios)",
   "env": null,
   "interrupt_mode": "signal",
   "language": "python",
   "metadata": null,
   "name": "lausanne-greening-scenarios"
  },
  "name": "Untitled.ipynb"
 },
 "nbformat": 4,
 "nbformat_minor": 2
}
