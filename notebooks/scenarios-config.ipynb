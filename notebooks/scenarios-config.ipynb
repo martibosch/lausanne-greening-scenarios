{
 "cells": [
  {
   "cell_type": "code",
   "execution_count": 1,
   "metadata": {
    "collapsed": false
   },
   "outputs": [
    {
     "name": "stdout",
     "output_type": "stream",
     "text": [
      "make: Entering directory '/home/martibosch/data-science/lausanne-greening-scenarios'\r\n",
      "make: Nothing to be done for 'scenario_config'.\r\n",
      "make: Nothing to be done for 'scenario_endpoints'.\r\n",
      "make: Nothing to be done for 'scenario_metrics'.\r\n",
      "make: Leaving directory '/home/martibosch/data-science/lausanne-greening-scenarios'\r\n"
     ]
    }
   ],
   "source": [
    "!make -C .. scenario_config scenario_endpoints scenario_metrics"
   ]
  },
  {
   "cell_type": "code",
   "execution_count": 2,
   "metadata": {
    "collapsed": false
   },
   "outputs": [],
   "source": [
    "import numpy as np\n",
    "import pandas as pd\n",
    "import seaborn as sns\n",
    "import xarray as xr"
   ]
  },
  {
   "cell_type": "code",
   "execution_count": 3,
   "metadata": {
    "collapsed": false
   },
   "outputs": [],
   "source": [
    "scenario_config_filepath = '../data/processed/scenario-config.nc'\n",
    "scenario_endpoints_filepath = '../data/processed/scenario-endpoints.nc'\n",
    "scenario_metrics_filepath = '../data/processed/scenario-metrics.csv'"
   ]
  },
  {
   "cell_type": "code",
   "execution_count": 4,
   "metadata": {
    "collapsed": false
   },
   "outputs": [],
   "source": [
    "metrics = [\n",
    "    'proportion_of_landscape', 'area_mn', 'shape_index_mn', 'edge_density'\n",
    "]\n",
    "metric_label_dict = {\n",
    "    'proportion_of_landscape': 'PLAND',\n",
    "    'area_mn': 'AREA_MN',\n",
    "    'shape_index_mn': 'SHAPE_MN',\n",
    "    'edge_density': 'ED'\n",
    "}"
   ]
  },
  {
   "cell_type": "code",
   "execution_count": 5,
   "metadata": {
    "collapsed": false
   },
   "outputs": [],
   "source": [
    "scenario_config_ds = xr.open_dataset(scenario_config_filepath)\n",
    "scenario_endpoints_ds = xr.open_dataset(scenario_endpoints_filepath)\n",
    "\n",
    "scenario_metrics_df = pd.read_csv(scenario_metrics_filepath).rename(\n",
    "    columns=metric_label_dict)"
   ]
  },
  {
   "cell_type": "code",
   "execution_count": 6,
   "metadata": {
    "collapsed": false
   },
   "outputs": [],
   "source": [
    "def df_from_scenario_ds(scenario_ds):\n",
    "    return scenario_ds['T'].mean(dim=['x', 'y']).to_dataframe().reset_index()"
   ]
  },
  {
   "cell_type": "code",
   "execution_count": 7,
   "metadata": {
    "collapsed": false
   },
   "outputs": [],
   "source": [
    "scenario_T_df = df_from_scenario_ds(scenario_config_ds)\n",
    "# get a scenario temperature data frame from the scenario dataset\n",
    "\n",
    "# get a scenario temperature data frame from the scenario endpoints dataset\n",
    "scenario_T_endpoints_df = df_from_scenario_ds(scenario_endpoints_ds)\n",
    "# repeat the endpoint metrics accross `interactions` and `scenario_runs`\n",
    "# to have a consistent data frame structure with `scenario_df`\n",
    "interactions = scenario_config_ds['interaction'].values\n",
    "scenario_runs = scenario_config_ds['scenario_run'].values\n",
    "num_interactions = len(interactions)\n",
    "num_scenario_runs = len(scenario_runs)\n",
    "scenario_T_endpoints_df = pd.concat(\n",
    "    [scenario_T_endpoints_df] * num_interactions * num_scenario_runs,\n",
    "    ignore_index=True).sort_values('change_prop')\n",
    "scenario_T_endpoints_df['interaction'] = np.tile(\n",
    "    interactions,\n",
    "    len(scenario_T_endpoints_df) // num_interactions)\n",
    "scenario_T_endpoints_df['scenario_run'] = np.tile(\n",
    "    scenario_runs,\n",
    "    len(scenario_T_endpoints_df) // num_scenario_runs)\n",
    "\n",
    "# put it all together in a single data frame\n",
    "scenario_T_df = pd.concat([scenario_T_df, scenario_T_endpoints_df],\n",
    "                          ignore_index=True).sort_values('change_prop')"
   ]
  },
  {
   "cell_type": "code",
   "execution_count": 8,
   "metadata": {
    "collapsed": false
   },
   "outputs": [],
   "source": [
    "# merge the dataframes of scenario metrics and temperatures\n",
    "scenario_df = pd.merge(scenario_metrics_df, scenario_T_df)"
   ]
  },
  {
   "cell_type": "code",
   "execution_count": 9,
   "metadata": {
    "collapsed": false
   },
   "outputs": [
    {
     "data": {
      "image/png": "[encoded data removed]",
      "text/plain": [
       "<Figure size 863x180 with 4 Axes>"
      ]
     },
     "metadata": {
      "needs_background": "light"
     },
     "output_type": "display_data"
    }
   ],
   "source": [
    "g = sns.pairplot(scenario_df,\n",
    "                 x_vars=metric_label_dict.values(),\n",
    "                 y_vars=['T'],\n",
    "                 hue='interaction')\n",
    "g.axes.flat[0].set_ylabel('$\\\\overline{T} \\; [\\degree C]$')\n",
    "g._legend.remove()\n",
    "g.add_legend(title='Approach', bbox_to_anchor=(1.02, .5), frameon=True)\n",
    "g.fig.savefig('../reports/figures/scenarios-config.pdf')"
   ]
  }
 ],
 "metadata": {
  "kernelspec": {
   "argv": [
    "/home/martibosch/anaconda3/envs/lausanne-greening-scenarios/bin/python",
    "-m",
    "ipykernel_launcher",
    "-f",
    "{connection_file}"
   ],
   "display_name": "Python (lausanne-greening-scenarios)",
   "env": null,
   "interrupt_mode": "signal",
   "language": "python",
   "metadata": null,
   "name": "lausanne-greening-scenarios"
  },
  "name": "scenarios-config.ipynb"
 },
 "nbformat": 4,
 "nbformat_minor": 4
}
