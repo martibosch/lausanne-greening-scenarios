{
 "cells": [
  {
   "cell_type": "code",
   "execution_count": 1,
   "metadata": {
    "collapsed": false
   },
   "outputs": [],
   "source": [
    "import numpy as np\n",
    "import xarray as xr\n",
    "from numpy import random as rn\n",
    "from rasterio import transform\n",
    "\n",
    "from lausanne_greening_scenarios.scenarios import utils as scenario_utils"
   ]
  },
  {
   "cell_type": "code",
   "execution_count": 2,
   "metadata": {
    "collapsed": false
   },
   "outputs": [],
   "source": [
    "agglom_lulc_filepath = '../data/processed/agglom-lulc.tif'\n",
    "biophysical_table_filepath = '../data/processed/biophysical-table.csv'\n",
    "shade_threshold = 0.75\n",
    "num_scenario_runs = 10"
   ]
  },
  {
   "cell_type": "code",
   "execution_count": 3,
   "metadata": {
    "collapsed": false
   },
   "outputs": [],
   "source": [
    "sg = scenario_utils.ScenarioGenerator(agglom_lulc_filepath, biophysical_table_filepath)"
   ]
  },
  {
   "cell_type": "code",
   "execution_count": 4,
   "metadata": {
    "collapsed": false
   },
   "outputs": [],
   "source": [
    "rows = np.arange(sg.lulc_meta['height'])\n",
    "cols = np.arange(sg.lulc_meta['width'])\n",
    "lulc_transform = sg.lulc_meta['transform']\n",
    "xs, _ = transform.xy(lulc_transform, cols, cols)\n",
    "_, ys = transform.xy(lulc_transform, rows, rows)\n",
    "\n",
    "# update the raster meta so that it can be encoded as netcdf attributes\n",
    "attrs = sg.lulc_meta.copy()\n",
    "attrs.update(crs=f'epsg:{attrs[\"crs\"].to_epsg()}',\n",
    "             transform=attrs['transform'].to_gdal())"
   ]
  },
  {
   "cell_type": "code",
   "execution_count": 5,
   "metadata": {
    "collapsed": false
   },
   "outputs": [],
   "source": [
    "change_props = rn.uniform(size=num_scenario_runs)"
   ]
  },
  {
   "cell_type": "code",
   "execution_count": 6,
   "metadata": {
    "collapsed": false
   },
   "outputs": [],
   "source": [
    "scenario_arr = np.array([\n",
    "    sg.generate_lulc_arr(shade_threshold, change_prop) for change_prop in change_props])"
   ]
  },
  {
   "cell_type": "code",
   "execution_count": 7,
   "metadata": {
    "collapsed": false
   },
   "outputs": [],
   "source": [
    "scenario_lulc_da = xr.DataArray(scenario_arr,\n",
    "                           dims=('change_prop', 'y', 'x'),\n",
    "                           coords={\n",
    "                               'change_prop': change_props,\n",
    "                               'y': ys,\n",
    "                               'x': xs\n",
    "                           },\n",
    "                           attrs=attrs)"
   ]
  },
  {
   "cell_type": "code",
   "execution_count": 8,
   "metadata": {
    "collapsed": false
   },
   "outputs": [],
   "source": [
    "import json\n",
    "import tempfile\n",
    "from os import path\n",
    "\n",
    "import dask\n",
    "import invest_ucm_calibration as iuc\n",
    "import rasterio as rio\n",
    "import xarray as xr\n",
    "\n",
    "from lausanne_greening_scenarios.invest import utils as invest_utils"
   ]
  },
  {
   "cell_type": "code",
   "execution_count": 9,
   "metadata": {
    "collapsed": false
   },
   "outputs": [],
   "source": [
    "t_da_filepath = '../data/processed/tair-ucm.nc'\n",
    "ref_et_da_filepath = '../data/interim/invest/ref-et.nc'\n",
    "calibrated_params_filepath = '../data/interim/invest/calibrated-params.json'"
   ]
  },
  {
   "cell_type": "code",
   "execution_count": 10,
   "metadata": {
    "collapsed": false
   },
   "outputs": [],
   "source": [
    "t_da = xr.open_dataarray(t_da_filepath)\n",
    "max_uhi_date = t_da.isel(time=(t_da.max(dim=['x', 'y']) - t_da.min(dim=['x', 'y'])).argmax())['time'].dt.strftime('%Y-%m-%d').item()\n",
    "t_da = t_da.sel(time=max_uhi_date)\n",
    "t_ref = t_da.min().item()\n",
    "uhi_max = t_da.max().item() - t_ref\n",
    "\n",
    "ref_et_da = xr.open_dataarray(ref_et_da_filepath).sel(time=max_uhi_date)\n",
    "tmp_dir = tempfile.mkdtemp()\n",
    "ref_et_raster_filepath = invest_utils.dump_ref_et_raster(\n",
    "    ref_et_da, max_uhi_date, tmp_dir, invest_utils.get_da_rio_meta(ref_et_da))"
   ]
  },
  {
   "cell_type": "code",
   "execution_count": 11,
   "metadata": {
    "collapsed": false
   },
   "outputs": [],
   "source": [
    "with open(calibrated_params_filepath) as src:\n",
    "    ucm_params = json.load(src)"
   ]
  },
  {
   "cell_type": "code",
   "execution_count": 12,
   "metadata": {
    "collapsed": false
   },
   "outputs": [],
   "source": [
    "from affine import Affine\n",
    "\n",
    "rio_meta = scenario_lulc_da.attrs.copy()\n",
    "rio_meta['transform'] = Affine.from_gdal(*rio_meta['transform'])\n",
    "\n",
    "def _t_from_lulc(lulc_arr):\n",
    "    print(lulc_arr)\n",
    "    with tempfile.TemporaryDirectory() as tmp_dir:\n",
    "        lulc_raster_filepath = path.join(tmp_dir, 'lulc.tif')\n",
    "        with rio.open(lulc_raster_filepath, 'w', **rio_meta) as dst:\n",
    "            dst.write(lulc_arr, 1)\n",
    "\n",
    "        ucm_wrapper = iuc.UCMWrapper(lulc_raster_filepath,\n",
    "                                     biophysical_table_filepath,\n",
    "                                     'factors',\n",
    "                                     ref_et_raster_filepath,\n",
    "                                     t_ref,\n",
    "                                     uhi_max,\n",
    "                                     extra_ucm_args=ucm_params)\n",
    "        return ucm_wrapper.predict_t_arr(0)"
   ]
  },
  {
   "cell_type": "code",
   "execution_count": 13,
   "metadata": {
    "collapsed": false
   },
   "outputs": [
    {
     "data": {
      "text/plain": [
       "('change_prop', 'y', 'x')"
      ]
     },
     "execution_count": 13,
     "metadata": {},
     "output_type": "execute_result"
    }
   ],
   "source": [
    "scenario_lulc_da.dims"
   ]
  },
  {
   "cell_type": "code",
   "execution_count": 14,
   "metadata": {
    "collapsed": false
   },
   "outputs": [
    {
     "data": {
      "text/plain": [
       "Coordinates:\n",
       "  * change_prop  (change_prop) float64 0.9027 0.5036 0.5467 ... 0.5447 0.7168\n",
       "  * y            (y) float64 1.159e+06 1.159e+06 ... 1.149e+06 1.149e+06\n",
       "  * x            (x) float64 2.525e+06 2.525e+06 ... 2.546e+06 2.546e+06"
      ]
     },
     "execution_count": 14,
     "metadata": {},
     "output_type": "execute_result"
    }
   ],
   "source": [
    "scenario_lulc_da.coords"
   ]
  },
  {
   "cell_type": "code",
   "execution_count": 15,
   "metadata": {
    "collapsed": false
   },
   "outputs": [],
   "source": [
    "# we can simply iterate over `scenario_lulc_da` since 'change_prop' is its first/outermost dimension\n",
    "pred_delayed = [dask.delayed(_t_from_lulc)(_scenario_lulc_da) for _scenario_lulc_da in scenario_lulc_da]\n",
    "results = list(dask.compute(*pred_delayed, scheduler='processes'))"
   ]
  },
  {
   "cell_type": "code",
   "execution_count": 64,
   "metadata": {
    "collapsed": false
   },
   "outputs": [],
   "source": [
    "_pred_delayed = [dask.delayed(_t_from_lulc)(_scenario_lulc_da) for _scenario_lulc_da in scenario_lulc_da.isel(change_prop=range(3))]\n",
    "arr = np.array(dask.compute(*_pred_delayed, scheduler='processes'))"
   ]
  },
  {
   "cell_type": "code",
   "execution_count": 67,
   "metadata": {
    "collapsed": false
   },
   "outputs": [],
   "source": [
    "d = dict(a='a', b='b')"
   ]
  },
  {
   "cell_type": "code",
   "execution_count": 70,
   "metadata": {
    "collapsed": false
   },
   "outputs": [],
   "source": [
    "def foo(bar):\n",
    "    print(bar)"
   ]
  },
  {
   "cell_type": "code",
   "execution_count": 72,
   "metadata": {
    "collapsed": false
   },
   "outputs": [
    {
     "data": {
      "text/plain": [
       "array([[[-3.4028235e+38, -3.4028235e+38, -3.4028235e+38, ...,\n",
       "         -3.4028235e+38, -3.4028235e+38, -3.4028235e+38],\n",
       "        [-3.4028235e+38, -3.4028235e+38, -3.4028235e+38, ...,\n",
       "         -3.4028235e+38, -3.4028235e+38, -3.4028235e+38],\n",
       "        [-3.4028235e+38, -3.4028235e+38, -3.4028235e+38, ...,\n",
       "         -3.4028235e+38, -3.4028235e+38, -3.4028235e+38],\n",
       "        ...,\n",
       "        [-3.4028235e+38, -3.4028235e+38, -3.4028235e+38, ...,\n",
       "         -3.4028235e+38, -3.4028235e+38, -3.4028235e+38],\n",
       "        [-3.4028235e+38, -3.4028235e+38, -3.4028235e+38, ...,\n",
       "         -3.4028235e+38, -3.4028235e+38, -3.4028235e+38],\n",
       "        [-3.4028235e+38, -3.4028235e+38, -3.4028235e+38, ...,\n",
       "         -3.4028235e+38, -3.4028235e+38, -3.4028235e+38]],\n",
       "\n",
       "       [[-3.4028235e+38, -3.4028235e+38, -3.4028235e+38, ...,\n",
       "         -3.4028235e+38, -3.4028235e+38, -3.4028235e+38],\n",
       "        [-3.4028235e+38, -3.4028235e+38, -3.4028235e+38, ...,\n",
       "         -3.4028235e+38, -3.4028235e+38, -3.4028235e+38],\n",
       "        [-3.4028235e+38, -3.4028235e+38, -3.4028235e+38, ...,\n",
       "         -3.4028235e+38, -3.4028235e+38, -3.4028235e+38],\n",
       "        ...,\n",
       "        [-3.4028235e+38, -3.4028235e+38, -3.4028235e+38, ...,\n",
       "         -3.4028235e+38, -3.4028235e+38, -3.4028235e+38],\n",
       "        [-3.4028235e+38, -3.4028235e+38, -3.4028235e+38, ...,\n",
       "         -3.4028235e+38, -3.4028235e+38, -3.4028235e+38],\n",
       "        [-3.4028235e+38, -3.4028235e+38, -3.4028235e+38, ...,\n",
       "         -3.4028235e+38, -3.4028235e+38, -3.4028235e+38]],\n",
       "\n",
       "       [[-3.4028235e+38, -3.4028235e+38, -3.4028235e+38, ...,\n",
       "         -3.4028235e+38, -3.4028235e+38, -3.4028235e+38],\n",
       "        [-3.4028235e+38, -3.4028235e+38, -3.4028235e+38, ...,\n",
       "         -3.4028235e+38, -3.4028235e+38, -3.4028235e+38],\n",
       "        [-3.4028235e+38, -3.4028235e+38, -3.4028235e+38, ...,\n",
       "         -3.4028235e+38, -3.4028235e+38, -3.4028235e+38],\n",
       "        ...,\n",
       "        [-3.4028235e+38, -3.4028235e+38, -3.4028235e+38, ...,\n",
       "         -3.4028235e+38, -3.4028235e+38, -3.4028235e+38],\n",
       "        [-3.4028235e+38, -3.4028235e+38, -3.4028235e+38, ...,\n",
       "         -3.4028235e+38, -3.4028235e+38, -3.4028235e+38],\n",
       "        [-3.4028235e+38, -3.4028235e+38, -3.4028235e+38, ...,\n",
       "         -3.4028235e+38, -3.4028235e+38, -3.4028235e+38]]], dtype=float32)"
      ]
     },
     "execution_count": 72,
     "metadata": {},
     "output_type": "execute_result"
    }
   ],
   "source": [
    "arr.astype('float32')"
   ]
  },
  {
   "cell_type": "code",
   "execution_count": null,
   "metadata": {
    "collapsed": false
   },
   "outputs": [],
   "source": []
  },
  {
   "cell_type": "code",
   "execution_count": 20,
   "metadata": {
    "collapsed": false
   },
   "outputs": [],
   "source": [
    "scenario_t_da = xr.DataArray(results, dims=scenario_lulc_da.dims, coords=scenario_lulc_da.coords, name='T')\n",
    "scenario_t_da = scenario_t_da.where(scenario_t_da > 0, np.nan)"
   ]
  },
  {
   "cell_type": "code",
   "execution_count": 25,
   "metadata": {
    "collapsed": false
   },
   "outputs": [],
   "source": [
    "df = scenario_t_da.mean(dim=['x', 'y'], skipna=True).rename('T_avg').to_dataframe().reset_index()"
   ]
  },
  {
   "cell_type": "code",
   "execution_count": 26,
   "metadata": {
    "collapsed": false
   },
   "outputs": [
    {
     "data": {
      "text/html": [
       "<div>\n",
       "<style scoped>\n",
       "    .dataframe tbody tr th:only-of-type {\n",
       "        vertical-align: middle;\n",
       "    }\n",
       "\n",
       "    .dataframe tbody tr th {\n",
       "        vertical-align: top;\n",
       "    }\n",
       "\n",
       "    .dataframe thead th {\n",
       "        text-align: right;\n",
       "    }\n",
       "</style>\n",
       "<table border=\"1\" class=\"dataframe\">\n",
       "  <thead>\n",
       "    <tr style=\"text-align: right;\">\n",
       "      <th></th>\n",
       "      <th>change_prop</th>\n",
       "      <th>T_avg</th>\n",
       "    </tr>\n",
       "  </thead>\n",
       "  <tbody>\n",
       "    <tr>\n",
       "      <th>0</th>\n",
       "      <td>0.902713</td>\n",
       "      <td>21.227202</td>\n",
       "    </tr>\n",
       "    <tr>\n",
       "      <th>1</th>\n",
       "      <td>0.503643</td>\n",
       "      <td>21.411757</td>\n",
       "    </tr>\n",
       "    <tr>\n",
       "      <th>2</th>\n",
       "      <td>0.546699</td>\n",
       "      <td>21.391694</td>\n",
       "    </tr>\n",
       "    <tr>\n",
       "      <th>3</th>\n",
       "      <td>0.483645</td>\n",
       "      <td>21.421286</td>\n",
       "    </tr>\n",
       "    <tr>\n",
       "      <th>4</th>\n",
       "      <td>0.598465</td>\n",
       "      <td>21.367572</td>\n",
       "    </tr>\n",
       "    <tr>\n",
       "      <th>5</th>\n",
       "      <td>0.668703</td>\n",
       "      <td>21.335192</td>\n",
       "    </tr>\n",
       "    <tr>\n",
       "      <th>6</th>\n",
       "      <td>0.154708</td>\n",
       "      <td>21.572978</td>\n",
       "    </tr>\n",
       "    <tr>\n",
       "      <th>7</th>\n",
       "      <td>0.747722</td>\n",
       "      <td>21.299007</td>\n",
       "    </tr>\n",
       "    <tr>\n",
       "      <th>8</th>\n",
       "      <td>0.544662</td>\n",
       "      <td>21.392889</td>\n",
       "    </tr>\n",
       "    <tr>\n",
       "      <th>9</th>\n",
       "      <td>0.716833</td>\n",
       "      <td>21.313501</td>\n",
       "    </tr>\n",
       "  </tbody>\n",
       "</table>\n",
       "</div>"
      ],
      "text/plain": [
       "   change_prop      T_avg\n",
       "0     0.902713  21.227202\n",
       "1     0.503643  21.411757\n",
       "2     0.546699  21.391694\n",
       "3     0.483645  21.421286\n",
       "4     0.598465  21.367572\n",
       "5     0.668703  21.335192\n",
       "6     0.154708  21.572978\n",
       "7     0.747722  21.299007\n",
       "8     0.544662  21.392889\n",
       "9     0.716833  21.313501"
      ]
     },
     "execution_count": 26,
     "metadata": {},
     "output_type": "execute_result"
    }
   ],
   "source": [
    "df"
   ]
  },
  {
   "cell_type": "code",
   "execution_count": 27,
   "metadata": {
    "collapsed": false
   },
   "outputs": [],
   "source": [
    "import seaborn as sns"
   ]
  },
  {
   "cell_type": "code",
   "execution_count": 28,
   "metadata": {
    "collapsed": false
   },
   "outputs": [
    {
     "data": {
      "text/plain": [
       "<AxesSubplot:xlabel='change_prop', ylabel='T_avg'>"
      ]
     },
     "execution_count": 28,
     "metadata": {},
     "output_type": "execute_result"
    },
    {
     "data": {
      "image/png": "[encoded data removed]",
      "text/plain": [
       "<Figure size 432x288 with 1 Axes>"
      ]
     },
     "metadata": {
      "needs_background": "light"
     },
     "output_type": "display_data"
    }
   ],
   "source": [
    "sns.regplot(x='change_prop', y='T_avg', data=df.dropna())"
   ]
  },
  {
   "cell_type": "code",
   "execution_count": 41,
   "metadata": {
    "collapsed": false
   },
   "outputs": [],
   "source": [
    "num_plot_cols = 4"
   ]
  },
  {
   "cell_type": "code",
   "execution_count": 57,
   "metadata": {
    "collapsed": false
   },
   "outputs": [],
   "source": [
    "plot_da = scenario_t_da.sortby('change_prop').sel(change_prop=np.linspace(0, 1, num_plot_cols + 2)[1:-1], method='nearest')"
   ]
  },
  {
   "cell_type": "code",
   "execution_count": 58,
   "metadata": {
    "collapsed": false
   },
   "outputs": [
    {
     "data": {
      "text/plain": [
       "<xarray.plot.facetgrid.FacetGrid at 0x7f280f2ae5d0>"
      ]
     },
     "execution_count": 58,
     "metadata": {},
     "output_type": "execute_result"
    },
    {
     "data": {
      "image/png": "[encoded data removed]",
      "text/plain": [
       "<Figure size 936x216 with 5 Axes>"
      ]
     },
     "metadata": {
      "needs_background": "light"
     },
     "output_type": "display_data"
    }
   ],
   "source": [
    "(plot_da - t_da).plot(col='change_prop')"
   ]
  }
 ],
 "metadata": {
  "kernelspec": {
   "argv": [
    "/home/martibosch/anaconda3/envs/lausanne-greening-scenarios/bin/python",
    "-m",
    "ipykernel_launcher",
    "-f",
    "{connection_file}"
   ],
   "display_name": "Python (lausanne-greening-scenarios)",
   "env": null,
   "interrupt_mode": "signal",
   "language": "python",
   "metadata": null,
   "name": "lausanne-greening-scenarios"
  },
  "name": "Untitled8.ipynb"
 },
 "nbformat": 4,
 "nbformat_minor": 2
}
