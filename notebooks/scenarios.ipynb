{
 "cells": [
  {
   "cell_type": "code",
   "execution_count": 1,
   "metadata": {
    "collapsed": false
   },
   "outputs": [
    {
     "name": "stderr",
     "output_type": "stream",
     "text": [
      "/home/martibosch/anaconda3/envs/lausanne-greening-scenarios/lib/python3.7/site-packages/tqdm/std.py:668: FutureWarning: The Panel class is removed from pandas. Accessing it from the top-level namespace will also be removed in the next version\n",
      "  from pandas import Panel\n"
     ]
    }
   ],
   "source": [
    "import json\n",
    "import tempfile\n",
    "\n",
    "import pandas as pd\n",
    "import seaborn as sns\n",
    "import xarray as xr\n",
    "from tqdm import tqdm\n",
    "\n",
    "# from lausanne_greening_scenarios.invest import utils as invest_utils\n",
    "from lausanne_greening_scenarios.scenarios import utils as scenarios_utils\n",
    "\n",
    "# register tqdm with pandas to be able to use `progress_apply`\n",
    "tqdm.pandas()"
   ]
  },
  {
   "cell_type": "code",
   "execution_count": 2,
   "metadata": {
    "collapsed": false
   },
   "outputs": [],
   "source": [
    "scenario_metrics_filepath = '../data/interim/scenario-metrics.csv'\n",
    "scenario_lulc_filepath = '../data/interim/scenario-da.nc'\n",
    "biophysical_table_filepath = '../data/processed/biophysical-table.csv'\n",
    "ref_et_da_filepath = '../data/interim/invest/ref-et.nc'\n",
    "t_da_filepath = '../data/processed/tair-ucm.nc'\n",
    "calibrated_params_filepath = '../data/interim/invest/calibrated-params.json'"
   ]
  },
  {
   "cell_type": "code",
   "execution_count": 3,
   "metadata": {
    "collapsed": false
   },
   "outputs": [],
   "source": [
    "scenario_metrics_df = pd.read_csv(scenario_metrics_filepath)\n",
    "scenario_metrics_df = scenario_metrics_df.groupby(['interaction', 'change_prop']).mean().drop('scenario_run', axis=1).reset_index()"
   ]
  },
  {
   "cell_type": "code",
   "execution_count": 4,
   "metadata": {
    "collapsed": false
   },
   "outputs": [],
   "source": [
    "scenario_lulc_da = xr.open_dataarray(scenario_lulc_filepath)\n",
    "rio_meta = scenario_lulc_da.attrs.copy()\n",
    "scenario_lulc_da = scenario_lulc_da.mean('scenario_run').round().astype(rio_meta['dtype'])\n",
    "scenario_dims = scenario_lulc_da.coords.dims[:-2]\n",
    "scenario_lulc_da.attrs = rio_meta"
   ]
  },
  {
   "cell_type": "code",
   "execution_count": 5,
   "metadata": {
    "collapsed": false
   },
   "outputs": [],
   "source": [
    "t_da = xr.open_dataarray(t_da_filepath)\n",
    "hottest_day = t_da.isel(time=t_da.groupby('time').max(dim=['x', 'y']).argmax())['time'].dt.strftime('%Y-%m-%d').item()\n",
    "# hottest_day = '2019-07-24'\n",
    "t_ref = t_da.sel(time=hottest_day).min(dim=['x', 'y']).item()\n",
    "uhi_max = t_da.sel(time=hottest_day).max(dim=['x', 'y']).item() - t_ref\n",
    "\n",
    "ref_et_da = xr.open_dataarray(ref_et_da_filepath).sel(time=hottest_day)\n",
    "tmp_dir = tempfile.TemporaryDirectory()\n",
    "# ref_et_raster_filepath = invest_utils.dump_ref_et_raster(\n",
    "#     ref_et_da, hottest_day, tmp_dir, invest_utils.get_da_rio_meta(ref_et_da))\n",
    "ref_et_raster_filepath = '../data/interim/ref_eto_2019-07-24.tif'"
   ]
  },
  {
   "cell_type": "code",
   "execution_count": 6,
   "metadata": {
    "collapsed": false
   },
   "outputs": [],
   "source": [
    "with open(calibrated_params_filepath) as src:\n",
    "    ucm_params = json.load(src)"
   ]
  },
  {
   "cell_type": "code",
   "execution_count": 7,
   "metadata": {
    "collapsed": false
   },
   "outputs": [],
   "source": [
    "sw = scenarios_utils.ScenarioWrapper(scenario_lulc_da, biophysical_table_filepath, ref_et_raster_filepath, t_ref, uhi_max, ucm_params)"
   ]
  },
  {
   "cell_type": "code",
   "execution_count": 8,
   "metadata": {
    "collapsed": false
   },
   "outputs": [
    {
     "name": "stderr",
     "output_type": "stream",
     "text": [
      "\r",
      "  0%|          | 0/22 [00:00<?, ?it/s]"
     ]
    },
    {
     "name": "stderr",
     "output_type": "stream",
     "text": [
      "\r",
      "  9%|▉         | 2/22 [00:22<03:42, 11.12s/it]"
     ]
    },
    {
     "name": "stderr",
     "output_type": "stream",
     "text": [
      "\r",
      " 14%|█▎        | 3/22 [00:46<04:47, 15.15s/it]"
     ]
    },
    {
     "name": "stderr",
     "output_type": "stream",
     "text": [
      "\r",
      " 18%|█▊        | 4/22 [01:11<05:22, 17.90s/it]"
     ]
    },
    {
     "name": "stderr",
     "output_type": "stream",
     "text": [
      "\r",
      " 23%|██▎       | 5/22 [01:34<05:33, 19.63s/it]"
     ]
    },
    {
     "name": "stderr",
     "output_type": "stream",
     "text": [
      "\r",
      " 27%|██▋       | 6/22 [01:58<05:34, 20.93s/it]"
     ]
    },
    {
     "name": "stderr",
     "output_type": "stream",
     "text": [
      "\r",
      " 32%|███▏      | 7/22 [02:22<05:25, 21.69s/it]"
     ]
    },
    {
     "name": "stderr",
     "output_type": "stream",
     "text": [
      "\r",
      " 36%|███▋      | 8/22 [02:46<05:12, 22.33s/it]"
     ]
    },
    {
     "name": "stderr",
     "output_type": "stream",
     "text": [
      "\r",
      " 41%|████      | 9/22 [03:08<04:52, 22.48s/it]"
     ]
    },
    {
     "name": "stderr",
     "output_type": "stream",
     "text": [
      "\r",
      " 45%|████▌     | 10/22 [03:31<04:31, 22.60s/it]"
     ]
    },
    {
     "name": "stderr",
     "output_type": "stream",
     "text": [
      "\r",
      " 50%|█████     | 11/22 [03:56<04:14, 23.14s/it]"
     ]
    },
    {
     "name": "stderr",
     "output_type": "stream",
     "text": [
      "\r",
      " 55%|█████▍    | 12/22 [04:20<03:53, 23.37s/it]"
     ]
    },
    {
     "name": "stderr",
     "output_type": "stream",
     "text": [
      "\r",
      " 59%|█████▉    | 13/22 [04:42<03:28, 23.18s/it]"
     ]
    },
    {
     "name": "stderr",
     "output_type": "stream",
     "text": [
      "\r",
      " 64%|██████▎   | 14/22 [05:06<03:07, 23.43s/it]"
     ]
    },
    {
     "name": "stderr",
     "output_type": "stream",
     "text": [
      "\r",
      " 68%|██████▊   | 15/22 [05:30<02:44, 23.54s/it]"
     ]
    },
    {
     "name": "stderr",
     "output_type": "stream",
     "text": [
      "\r",
      " 73%|███████▎  | 16/22 [05:53<02:20, 23.49s/it]"
     ]
    },
    {
     "name": "stderr",
     "output_type": "stream",
     "text": [
      "\r",
      " 77%|███████▋  | 17/22 [06:17<01:57, 23.47s/it]"
     ]
    },
    {
     "name": "stderr",
     "output_type": "stream",
     "text": [
      "\r",
      " 82%|████████▏ | 18/22 [06:41<01:34, 23.72s/it]"
     ]
    },
    {
     "name": "stderr",
     "output_type": "stream",
     "text": [
      "\r",
      " 86%|████████▋ | 19/22 [07:05<01:11, 23.80s/it]"
     ]
    },
    {
     "name": "stderr",
     "output_type": "stream",
     "text": [
      "\r",
      " 91%|█████████ | 20/22 [07:29<00:47, 23.88s/it]"
     ]
    },
    {
     "name": "stderr",
     "output_type": "stream",
     "text": [
      "\r",
      " 95%|█████████▌| 21/22 [07:54<00:24, 24.04s/it]"
     ]
    },
    {
     "name": "stderr",
     "output_type": "stream",
     "text": [
      "\r",
      "100%|██████████| 22/22 [08:18<00:00, 24.18s/it]"
     ]
    },
    {
     "name": "stderr",
     "output_type": "stream",
     "text": [
      "\r",
      "100%|██████████| 22/22 [08:41<00:00, 23.70s/it]"
     ]
    },
    {
     "name": "stderr",
     "output_type": "stream",
     "text": [
      "\n"
     ]
    }
   ],
   "source": [
    "scenario_metrics_df['T_avg'] = scenario_metrics_df.progress_apply(sw.compute_t_avg, axis=1)"
   ]
  },
  {
   "cell_type": "code",
   "execution_count": 9,
   "metadata": {
    "collapsed": false
   },
   "outputs": [
    {
     "data": {
      "text/html": [
       "<div>\n",
       "<style scoped>\n",
       "    .dataframe tbody tr th:only-of-type {\n",
       "        vertical-align: middle;\n",
       "    }\n",
       "\n",
       "    .dataframe tbody tr th {\n",
       "        vertical-align: top;\n",
       "    }\n",
       "\n",
       "    .dataframe thead th {\n",
       "        text-align: right;\n",
       "    }\n",
       "</style>\n",
       "<table border=\"1\" class=\"dataframe\">\n",
       "  <thead>\n",
       "    <tr style=\"text-align: right;\">\n",
       "      <th></th>\n",
       "      <th>interaction</th>\n",
       "      <th>change_prop</th>\n",
       "      <th>area_mn</th>\n",
       "      <th>edge_density</th>\n",
       "      <th>shape_index_mn</th>\n",
       "      <th>proportion_of_landscape</th>\n",
       "      <th>T_avg</th>\n",
       "    </tr>\n",
       "  </thead>\n",
       "  <tbody>\n",
       "    <tr>\n",
       "      <th>0</th>\n",
       "      <td>cluster</td>\n",
       "      <td>0.0</td>\n",
       "      <td>8.742936e+09</td>\n",
       "      <td>0.000763</td>\n",
       "      <td>1.206352</td>\n",
       "      <td>17.264191</td>\n",
       "      <td>28.308452</td>\n",
       "    </tr>\n",
       "    <tr>\n",
       "      <th>1</th>\n",
       "      <td>cluster</td>\n",
       "      <td>0.1</td>\n",
       "      <td>1.660159e+10</td>\n",
       "      <td>0.000773</td>\n",
       "      <td>1.259594</td>\n",
       "      <td>20.874333</td>\n",
       "      <td>28.294746</td>\n",
       "    </tr>\n",
       "    <tr>\n",
       "      <th>2</th>\n",
       "      <td>cluster</td>\n",
       "      <td>0.2</td>\n",
       "      <td>2.696286e+10</td>\n",
       "      <td>0.000900</td>\n",
       "      <td>1.445838</td>\n",
       "      <td>24.484475</td>\n",
       "      <td>28.275747</td>\n",
       "    </tr>\n",
       "    <tr>\n",
       "      <th>3</th>\n",
       "      <td>cluster</td>\n",
       "      <td>0.3</td>\n",
       "      <td>4.118657e+10</td>\n",
       "      <td>0.000939</td>\n",
       "      <td>1.457859</td>\n",
       "      <td>28.094617</td>\n",
       "      <td>28.249757</td>\n",
       "    </tr>\n",
       "    <tr>\n",
       "      <th>4</th>\n",
       "      <td>cluster</td>\n",
       "      <td>0.4</td>\n",
       "      <td>1.189780e+10</td>\n",
       "      <td>0.001323</td>\n",
       "      <td>1.185658</td>\n",
       "      <td>31.704759</td>\n",
       "      <td>28.238648</td>\n",
       "    </tr>\n",
       "    <tr>\n",
       "      <th>5</th>\n",
       "      <td>cluster</td>\n",
       "      <td>0.5</td>\n",
       "      <td>1.323251e+10</td>\n",
       "      <td>0.001625</td>\n",
       "      <td>1.266195</td>\n",
       "      <td>35.314901</td>\n",
       "      <td>28.212771</td>\n",
       "    </tr>\n",
       "    <tr>\n",
       "      <th>6</th>\n",
       "      <td>cluster</td>\n",
       "      <td>0.6</td>\n",
       "      <td>2.113441e+10</td>\n",
       "      <td>0.001812</td>\n",
       "      <td>1.327801</td>\n",
       "      <td>38.925043</td>\n",
       "      <td>28.185550</td>\n",
       "    </tr>\n",
       "    <tr>\n",
       "      <th>7</th>\n",
       "      <td>cluster</td>\n",
       "      <td>0.7</td>\n",
       "      <td>3.666153e+10</td>\n",
       "      <td>0.001883</td>\n",
       "      <td>1.311882</td>\n",
       "      <td>42.535185</td>\n",
       "      <td>28.161112</td>\n",
       "    </tr>\n",
       "    <tr>\n",
       "      <th>8</th>\n",
       "      <td>cluster</td>\n",
       "      <td>0.8</td>\n",
       "      <td>5.667844e+10</td>\n",
       "      <td>0.001839</td>\n",
       "      <td>1.284982</td>\n",
       "      <td>46.145327</td>\n",
       "      <td>28.135010</td>\n",
       "    </tr>\n",
       "    <tr>\n",
       "      <th>9</th>\n",
       "      <td>cluster</td>\n",
       "      <td>0.9</td>\n",
       "      <td>7.703151e+10</td>\n",
       "      <td>0.001678</td>\n",
       "      <td>1.273187</td>\n",
       "      <td>49.755468</td>\n",
       "      <td>28.105177</td>\n",
       "    </tr>\n",
       "    <tr>\n",
       "      <th>10</th>\n",
       "      <td>cluster</td>\n",
       "      <td>1.0</td>\n",
       "      <td>9.676250e+10</td>\n",
       "      <td>0.001403</td>\n",
       "      <td>1.246372</td>\n",
       "      <td>53.365610</td>\n",
       "      <td>28.050382</td>\n",
       "    </tr>\n",
       "    <tr>\n",
       "      <th>11</th>\n",
       "      <td>scatter</td>\n",
       "      <td>0.0</td>\n",
       "      <td>8.742936e+09</td>\n",
       "      <td>0.000763</td>\n",
       "      <td>1.206352</td>\n",
       "      <td>17.264191</td>\n",
       "      <td>28.308452</td>\n",
       "    </tr>\n",
       "    <tr>\n",
       "      <th>12</th>\n",
       "      <td>scatter</td>\n",
       "      <td>0.1</td>\n",
       "      <td>3.708781e+09</td>\n",
       "      <td>0.001263</td>\n",
       "      <td>1.117904</td>\n",
       "      <td>20.874333</td>\n",
       "      <td>28.300099</td>\n",
       "    </tr>\n",
       "    <tr>\n",
       "      <th>13</th>\n",
       "      <td>scatter</td>\n",
       "      <td>0.2</td>\n",
       "      <td>3.809855e+09</td>\n",
       "      <td>0.001648</td>\n",
       "      <td>1.184436</td>\n",
       "      <td>24.484475</td>\n",
       "      <td>28.273767</td>\n",
       "    </tr>\n",
       "    <tr>\n",
       "      <th>14</th>\n",
       "      <td>scatter</td>\n",
       "      <td>0.3</td>\n",
       "      <td>4.911356e+09</td>\n",
       "      <td>0.001918</td>\n",
       "      <td>1.267900</td>\n",
       "      <td>28.094617</td>\n",
       "      <td>28.246861</td>\n",
       "    </tr>\n",
       "    <tr>\n",
       "      <th>15</th>\n",
       "      <td>scatter</td>\n",
       "      <td>0.4</td>\n",
       "      <td>6.834919e+09</td>\n",
       "      <td>0.002071</td>\n",
       "      <td>1.323609</td>\n",
       "      <td>31.704759</td>\n",
       "      <td>28.222386</td>\n",
       "    </tr>\n",
       "    <tr>\n",
       "      <th>16</th>\n",
       "      <td>scatter</td>\n",
       "      <td>0.5</td>\n",
       "      <td>9.294092e+09</td>\n",
       "      <td>0.002108</td>\n",
       "      <td>1.324468</td>\n",
       "      <td>35.314901</td>\n",
       "      <td>28.196028</td>\n",
       "    </tr>\n",
       "    <tr>\n",
       "      <th>17</th>\n",
       "      <td>scatter</td>\n",
       "      <td>0.6</td>\n",
       "      <td>1.192890e+10</td>\n",
       "      <td>0.002030</td>\n",
       "      <td>1.291993</td>\n",
       "      <td>38.925043</td>\n",
       "      <td>28.165820</td>\n",
       "    </tr>\n",
       "    <tr>\n",
       "      <th>18</th>\n",
       "      <td>scatter</td>\n",
       "      <td>0.7</td>\n",
       "      <td>1.613155e+10</td>\n",
       "      <td>0.001862</td>\n",
       "      <td>1.248217</td>\n",
       "      <td>42.535185</td>\n",
       "      <td>28.113211</td>\n",
       "    </tr>\n",
       "    <tr>\n",
       "      <th>19</th>\n",
       "      <td>scatter</td>\n",
       "      <td>0.8</td>\n",
       "      <td>5.731166e+10</td>\n",
       "      <td>0.001893</td>\n",
       "      <td>1.261885</td>\n",
       "      <td>46.145327</td>\n",
       "      <td>28.095312</td>\n",
       "    </tr>\n",
       "    <tr>\n",
       "      <th>20</th>\n",
       "      <td>scatter</td>\n",
       "      <td>0.9</td>\n",
       "      <td>8.545133e+10</td>\n",
       "      <td>0.001743</td>\n",
       "      <td>1.270073</td>\n",
       "      <td>49.755468</td>\n",
       "      <td>28.069894</td>\n",
       "    </tr>\n",
       "    <tr>\n",
       "      <th>21</th>\n",
       "      <td>scatter</td>\n",
       "      <td>1.0</td>\n",
       "      <td>9.676250e+10</td>\n",
       "      <td>0.001403</td>\n",
       "      <td>1.246372</td>\n",
       "      <td>53.365610</td>\n",
       "      <td>28.050382</td>\n",
       "    </tr>\n",
       "  </tbody>\n",
       "</table>\n",
       "</div>"
      ],
      "text/plain": [
       "   interaction  change_prop       area_mn  edge_density  shape_index_mn  \\\n",
       "0      cluster          0.0  8.742936e+09      0.000763        1.206352   \n",
       "1      cluster          0.1  1.660159e+10      0.000773        1.259594   \n",
       "2      cluster          0.2  2.696286e+10      0.000900        1.445838   \n",
       "3      cluster          0.3  4.118657e+10      0.000939        1.457859   \n",
       "4      cluster          0.4  1.189780e+10      0.001323        1.185658   \n",
       "5      cluster          0.5  1.323251e+10      0.001625        1.266195   \n",
       "6      cluster          0.6  2.113441e+10      0.001812        1.327801   \n",
       "7      cluster          0.7  3.666153e+10      0.001883        1.311882   \n",
       "8      cluster          0.8  5.667844e+10      0.001839        1.284982   \n",
       "9      cluster          0.9  7.703151e+10      0.001678        1.273187   \n",
       "10     cluster          1.0  9.676250e+10      0.001403        1.246372   \n",
       "11     scatter          0.0  8.742936e+09      0.000763        1.206352   \n",
       "12     scatter          0.1  3.708781e+09      0.001263        1.117904   \n",
       "13     scatter          0.2  3.809855e+09      0.001648        1.184436   \n",
       "14     scatter          0.3  4.911356e+09      0.001918        1.267900   \n",
       "15     scatter          0.4  6.834919e+09      0.002071        1.323609   \n",
       "16     scatter          0.5  9.294092e+09      0.002108        1.324468   \n",
       "17     scatter          0.6  1.192890e+10      0.002030        1.291993   \n",
       "18     scatter          0.7  1.613155e+10      0.001862        1.248217   \n",
       "19     scatter          0.8  5.731166e+10      0.001893        1.261885   \n",
       "20     scatter          0.9  8.545133e+10      0.001743        1.270073   \n",
       "21     scatter          1.0  9.676250e+10      0.001403        1.246372   \n",
       "\n",
       "    proportion_of_landscape      T_avg  \n",
       "0                 17.264191  28.308452  \n",
       "1                 20.874333  28.294746  \n",
       "2                 24.484475  28.275747  \n",
       "3                 28.094617  28.249757  \n",
       "4                 31.704759  28.238648  \n",
       "5                 35.314901  28.212771  \n",
       "6                 38.925043  28.185550  \n",
       "7                 42.535185  28.161112  \n",
       "8                 46.145327  28.135010  \n",
       "9                 49.755468  28.105177  \n",
       "10                53.365610  28.050382  \n",
       "11                17.264191  28.308452  \n",
       "12                20.874333  28.300099  \n",
       "13                24.484475  28.273767  \n",
       "14                28.094617  28.246861  \n",
       "15                31.704759  28.222386  \n",
       "16                35.314901  28.196028  \n",
       "17                38.925043  28.165820  \n",
       "18                42.535185  28.113211  \n",
       "19                46.145327  28.095312  \n",
       "20                49.755468  28.069894  \n",
       "21                53.365610  28.050382  "
      ]
     },
     "execution_count": 9,
     "metadata": {},
     "output_type": "execute_result"
    }
   ],
   "source": [
    "scenario_metrics_df"
   ]
  },
  {
   "cell_type": "code",
   "execution_count": 10,
   "metadata": {
    "collapsed": false
   },
   "outputs": [
    {
     "data": {
      "text/plain": [
       "<seaborn.axisgrid.PairGrid at 0x7fc45db57050>"
      ]
     },
     "execution_count": 10,
     "metadata": {},
     "output_type": "execute_result"
    },
    {
     "data": {
      "image/png": "[encoded data removed]",
      "text/plain": [
       "<Figure size 720x180 with 4 Axes>"
      ]
     },
     "metadata": {
      "needs_background": "light"
     },
     "output_type": "display_data"
    }
   ],
   "source": [
    "sns.pairplot(scenario_metrics_df, x_vars=scenario_metrics_df.columns[2:-1], y_vars=['T_avg'])"
   ]
  }
 ],
 "metadata": {
  "kernelspec": {
   "argv": [
    "/home/martibosch/anaconda3/envs/lausanne-greening-scenarios/bin/python",
    "-m",
    "ipykernel_launcher",
    "-f",
    "{connection_file}"
   ],
   "display_name": "Python (lausanne-greening-scenarios)",
   "env": null,
   "interrupt_mode": "signal",
   "language": "python",
   "metadata": null,
   "name": "lausanne-greening-scenarios"
  },
  "name": "scenarios.ipynb"
 },
 "nbformat": 4,
 "nbformat_minor": 4
}
