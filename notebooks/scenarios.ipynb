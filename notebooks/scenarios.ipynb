{
 "cells": [
  {
   "cell_type": "code",
   "execution_count": 28,
   "metadata": {
    "collapsed": false
   },
   "outputs": [],
   "source": [
    "import itertools\n",
    "import json\n",
    "import tempfile\n",
    "from os import path\n",
    "\n",
    "import invest_ucm_calibration as iuc\n",
    "import pandas as pd\n",
    "import rasterio as rio\n",
    "import seaborn as sns\n",
    "import swiss_uhi_utils as suhi\n",
    "import xarray as xr\n",
    "from affine import Affine\n",
    "from tqdm import tqdm\n",
    "\n",
    "from lausanne_greening_scenarios.invest import utils as invest_utils\n",
    "\n",
    "# register tqdm with pandas to be able to use `progress_apply`\n",
    "tqdm.pandas()"
   ]
  },
  {
   "cell_type": "code",
   "execution_count": 2,
   "metadata": {
    "collapsed": false
   },
   "outputs": [],
   "source": [
    "scenario_metrics_filepath = '../data/interim/scenario-metrics.csv'\n",
    "scenario_lulc_filepath = '../data/interim/scenario-da.nc'\n",
    "biophysical_table_filepath = '../data/processed/biophysical-table.csv'\n",
    "ref_et_da_filepath = '../data/interim/invest/ref-et.nc'\n",
    "t_da_filepath = '../data/processed/tair-ucm.nc'\n",
    "calibrated_params_filepath = '../data/interim/invest/calibrated-params.json'"
   ]
  },
  {
   "cell_type": "code",
   "execution_count": 4,
   "metadata": {
    "collapsed": false
   },
   "outputs": [],
   "source": [
    "scenario_metrics_df = pd.read_csv(scenario_metrics_filepath)\n",
    "scenario_metrics_df = scenario_metrics_df.groupby(['interaction', 'change_prop']).mean().drop('scenario_run', axis=1).reset_index()"
   ]
  },
  {
   "cell_type": "code",
   "execution_count": 37,
   "metadata": {
    "collapsed": false
   },
   "outputs": [],
   "source": [
    "scenario_lulc_da = xr.open_dataarray(scenario_lulc_filepath)\n",
    "rio_meta = scenario_lulc_da.attrs.copy()\n",
    "scenario_lulc_da = scenario_lulc_da.mean('scenario_run').round().astype(rio_meta['dtype'])\n",
    "scenario_dims = scenario_lulc_da.coords.dims[:-2]\n",
    "# nodata = scenario_lulc_da.attrs['nodata']\n",
    "change_props = scenario_lulc_da['change_prop'].values\n",
    "rio_meta['transform'] = Affine.from_gdal(*rio_meta['transform'])"
   ]
  },
  {
   "cell_type": "code",
   "execution_count": 42,
   "metadata": {
    "collapsed": false
   },
   "outputs": [],
   "source": [
    "with open(calibrated_params_filepath) as src:\n",
    "    model_params = json.load(src)"
   ]
  },
  {
   "cell_type": "code",
   "execution_count": 43,
   "metadata": {
    "collapsed": false
   },
   "outputs": [],
   "source": [
    "t_da = xr.open_dataarray(t_da_filepath)\n",
    "hottest_day = t_da.isel(time=t_da.groupby('time').max(dim=['x', 'y']).argmax())['time'].dt.strftime('%Y-%m-%d').item()\n",
    "# hottest_day = '2019-07-24'\n",
    "t_ref = t_da.sel(time=hottest_day).min(dim=['x', 'y']).item()\n",
    "uhi_max = t_da.sel(time=hottest_day).max(dim=['x', 'y']).item() - t_ref\n",
    "\n",
    "ref_et_da = xr.open_dataarray(ref_et_da_filepath).sel(time=hottest_day)\n",
    "ref_et_raster_dir = '../data/interim'\n",
    "ref_et_raster_filepath = invest_utils.dump_ref_et_raster(\n",
    "    ref_et_da, hottest_day, ref_et_raster_dir, invest_utils.get_da_rio_meta(ref_et_da))"
   ]
  },
  {
   "cell_type": "code",
   "execution_count": 44,
   "metadata": {
    "collapsed": false
   },
   "outputs": [],
   "source": [
    "# define the functions so that the fixed arguments are curried into them,\n",
    "# except for `metrics`\n",
    "def compute_t_avg(row):\n",
    "    # landscape_arr = sg.generate_landscape_arr(shade_threshold,\n",
    "    #                                           row['change_prop'],\n",
    "    #                                           interaction=row['interaction'])\n",
    "    lulc_arr = scenario_lulc_da.sel({\n",
    "        scenario_dim: row[scenario_dim]\n",
    "        for scenario_dim in scenario_dims\n",
    "    }).values\n",
    "\n",
    "    with tempfile.TemporaryDirectory() as tmp_dir:\n",
    "        lulc_raster_filepath = path.join(tmp_dir, 'lulc.tif')\n",
    "        with rio.open(lulc_raster_filepath, 'w', **rio_meta) as dst:\n",
    "            dst.write(lulc_arr, 1)\n",
    "\n",
    "        ucm_wrapper = iuc.UCMWrapper(lulc_raster_filepath, biophysical_table_filepath, 'factors', ref_et_raster_filepath, t_ref, uhi_max, extra_ucm_args=model_params)\n",
    "        return ucm_wrapper.predict_t_da().mean(skipna=True).item()"
   ]
  },
  {
   "cell_type": "code",
   "execution_count": 47,
   "metadata": {
    "collapsed": false
   },
   "outputs": [
    {
     "name": "stderr",
     "output_type": "stream",
     "text": [
      "\r",
      "  0%|          | 0/22 [00:00<?, ?it/s]"
     ]
    },
    {
     "name": "stderr",
     "output_type": "stream",
     "text": [
      "\r",
      "  9%|▉         | 2/22 [00:36<06:05, 18.26s/it]"
     ]
    },
    {
     "name": "stderr",
     "output_type": "stream",
     "text": [
      "\r",
      " 14%|█▎        | 3/22 [01:15<07:44, 24.43s/it]"
     ]
    },
    {
     "name": "stderr",
     "output_type": "stream",
     "text": [
      "\r",
      " 18%|█▊        | 4/22 [01:53<08:31, 28.43s/it]"
     ]
    },
    {
     "name": "stderr",
     "output_type": "stream",
     "text": [
      "\r",
      " 23%|██▎       | 5/22 [02:30<08:50, 31.20s/it]"
     ]
    },
    {
     "name": "stderr",
     "output_type": "stream",
     "text": [
      "\r",
      " 27%|██▋       | 6/22 [03:06<08:42, 32.64s/it]"
     ]
    },
    {
     "name": "stderr",
     "output_type": "stream",
     "text": [
      "\r",
      " 32%|███▏      | 7/22 [03:45<08:35, 34.37s/it]"
     ]
    },
    {
     "name": "stderr",
     "output_type": "stream",
     "text": [
      "\r",
      " 36%|███▋      | 8/22 [04:23<08:18, 35.59s/it]"
     ]
    },
    {
     "name": "stderr",
     "output_type": "stream",
     "text": [
      "\r",
      " 41%|████      | 9/22 [04:58<07:40, 35.42s/it]"
     ]
    },
    {
     "name": "stderr",
     "output_type": "stream",
     "text": [
      "\r",
      " 45%|████▌     | 10/22 [05:35<07:10, 35.86s/it]"
     ]
    },
    {
     "name": "stderr",
     "output_type": "stream",
     "text": [
      "\r",
      " 50%|█████     | 11/22 [06:11<06:33, 35.79s/it]"
     ]
    },
    {
     "name": "stderr",
     "output_type": "stream",
     "text": [
      "\r",
      " 55%|█████▍    | 12/22 [06:47<05:58, 35.87s/it]"
     ]
    },
    {
     "name": "stderr",
     "output_type": "stream",
     "text": [
      "\r",
      " 59%|█████▉    | 13/22 [07:22<05:22, 35.83s/it]"
     ]
    },
    {
     "name": "stderr",
     "output_type": "stream",
     "text": [
      "\r",
      " 64%|██████▎   | 14/22 [07:58<04:45, 35.68s/it]"
     ]
    },
    {
     "name": "stderr",
     "output_type": "stream",
     "text": [
      "\r",
      " 68%|██████▊   | 15/22 [08:33<04:08, 35.53s/it]"
     ]
    },
    {
     "name": "stderr",
     "output_type": "stream",
     "text": [
      "\r",
      " 73%|███████▎  | 16/22 [09:07<03:30, 35.13s/it]"
     ]
    },
    {
     "name": "stderr",
     "output_type": "stream",
     "text": [
      "\r",
      " 77%|███████▋  | 17/22 [09:42<02:54, 34.95s/it]"
     ]
    },
    {
     "name": "stderr",
     "output_type": "stream",
     "text": [
      "\r",
      " 82%|████████▏ | 18/22 [10:19<02:22, 35.60s/it]"
     ]
    },
    {
     "name": "stderr",
     "output_type": "stream",
     "text": [
      "\r",
      " 86%|████████▋ | 19/22 [10:56<01:48, 36.08s/it]"
     ]
    },
    {
     "name": "stderr",
     "output_type": "stream",
     "text": [
      "\r",
      " 91%|█████████ | 20/22 [11:32<01:11, 35.95s/it]"
     ]
    },
    {
     "name": "stderr",
     "output_type": "stream",
     "text": [
      "\r",
      " 95%|█████████▌| 21/22 [12:07<00:35, 35.78s/it]"
     ]
    },
    {
     "name": "stderr",
     "output_type": "stream",
     "text": [
      "\r",
      "100%|██████████| 22/22 [12:42<00:00, 35.54s/it]"
     ]
    },
    {
     "name": "stderr",
     "output_type": "stream",
     "text": [
      "\r",
      "100%|██████████| 22/22 [13:18<00:00, 36.31s/it]"
     ]
    },
    {
     "name": "stderr",
     "output_type": "stream",
     "text": [
      "\n"
     ]
    }
   ],
   "source": [
    "scenario_metrics_df['T_avg'] = scenario_metrics_df.progress_apply(compute_t_avg, axis=1)"
   ]
  },
  {
   "cell_type": "code",
   "execution_count": null,
   "metadata": {
    "collapsed": false
   },
   "outputs": [
    {
     "data": {
      "text/plain": [
       "<seaborn.axisgrid.PairGrid at 0x7f733123f4d0>"
      ]
     },
     "execution_count": 55,
     "metadata": {},
     "output_type": "execute_result"
    },
    {
     "data": {
      "image/png": "[encoded data removed]",
      "text/plain": [
       "<Figure size 720x180 with 4 Axes>"
      ]
     },
     "metadata": {
      "needs_background": "light"
     },
     "output_type": "display_data"
    }
   ],
   "source": [
    "sns.pairplot(scenario_metrics_df, x_vars=scenario_metrics_df.columns[2:-1], y_vars=['T_avg'])"
   ]
  },
  {
   "cell_type": "markdown",
   "metadata": {
    "collapsed": false
   },
   "source": [
    "### Do the spatial regression by zones"
   ]
  },
  {
   "cell_type": "code",
   "execution_count": 56,
   "metadata": {
    "collapsed": false
   },
   "outputs": [],
   "source": [
    "from lausanne_greening_scenarios.regression import utils as regr_utils"
   ]
  },
  {
   "cell_type": "code",
   "execution_count": null,
   "metadata": {
    "collapsed": false
   },
   "outputs": [],
   "source": [
    "metrics = ['proportion_of_landscape', 'area_mn', 'shape_index_mn', 'edge_density']\n",
    "tree_class = utils.TREE_CLASS"
   ]
  },
  {
   "cell_type": "code",
   "execution_count": null,
   "metadata": {
    "collapsed": false
   },
   "outputs": [],
   "source": [
    "rw = regr_utils.RegressionWrapper(lulc_raster_filepath, biophysical_table_filepath, metrics, tree_class)"
   ]
  },
  {
   "cell_type": "code",
   "execution_count": null,
   "metadata": {
    "collapsed": false
   },
   "outputs": [],
   "source": []
  }
 ],
 "metadata": {
  "kernelspec": {
   "argv": [
    "/home/martibosch/anaconda3/envs/lausanne-greening-scenarios/bin/python",
    "-m",
    "ipykernel_launcher",
    "-f",
    "{connection_file}"
   ],
   "display_name": "Python (lausanne-greening-scenarios)",
   "env": null,
   "interrupt_mode": "signal",
   "language": "python",
   "metadata": null,
   "name": "lausanne-greening-scenarios"
  },
  "name": "scenarios.ipynb"
 },
 "nbformat": 4,
 "nbformat_minor": 2
}
