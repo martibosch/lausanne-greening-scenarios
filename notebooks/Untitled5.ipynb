{
 "cells": [
  {
   "cell_type": "code",
   "execution_count": null,
   "metadata": {
    "collapsed": false
   },
   "outputs": [],
   "source": []
  }
 ],
 "metadata": {
  "kernelspec": {
   "argv": [
    "/home/martibosch/anaconda3/envs/lausanne-greening-scenarios/bin/python",
    "-m",
    "ipykernel_launcher",
    "-f",
    "{connection_file}"
   ],
   "display_name": "Python (lausanne-greening-scenarios)",
   "env": null,
   "interrupt_mode": "signal",
   "language": "python",
   "metadata": null,
   "name": "lausanne-greening-scenarios"
  },
  "name": "Untitled5.ipynb"
 },
 "nbformat": 4,
 "nbformat_minor": 2
}
